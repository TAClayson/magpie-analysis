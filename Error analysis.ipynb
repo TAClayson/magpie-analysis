{
 "cells": [
  {
   "cell_type": "code",
   "execution_count": 1,
   "metadata": {
    "collapsed": false
   },
   "outputs": [
    {
     "ename": "ImportError",
     "evalue": "No module named PySide",
     "output_type": "error",
     "traceback": [
      "\u001b[1;31m---------------------------------------------------------------------------\u001b[0m",
      "\u001b[1;31mImportError\u001b[0m                               Traceback (most recent call last)",
      "\u001b[1;32m<ipython-input-1-a3704d968887>\u001b[0m in \u001b[0;36m<module>\u001b[1;34m()\u001b[0m\n\u001b[1;32m----> 1\u001b[1;33m \u001b[1;32mfrom\u001b[0m \u001b[0mmcerp\u001b[0m \u001b[1;32mimport\u001b[0m \u001b[0mN\u001b[0m\u001b[1;33m,\u001b[0m \u001b[0mumath\u001b[0m\u001b[1;33m,\u001b[0m \u001b[0mLogN\u001b[0m\u001b[1;33m,\u001b[0m \u001b[0mGamma\u001b[0m  \u001b[1;31m# N, U, Gamma, Beta, correlate, etc.\u001b[0m\u001b[1;33m\u001b[0m\u001b[0m\n\u001b[0m\u001b[0;32m      2\u001b[0m \u001b[1;32mimport\u001b[0m \u001b[0mnumpy\u001b[0m \u001b[1;32mas\u001b[0m \u001b[0mnp\u001b[0m\u001b[1;33m\u001b[0m\u001b[0m\n\u001b[0;32m      3\u001b[0m \u001b[1;32mimport\u001b[0m \u001b[0mlocale\u001b[0m\u001b[1;33m\u001b[0m\u001b[0m\n\u001b[0;32m      4\u001b[0m \u001b[0mlocale\u001b[0m\u001b[1;33m.\u001b[0m\u001b[0msetlocale\u001b[0m\u001b[1;33m(\u001b[0m\u001b[0mlocale\u001b[0m\u001b[1;33m.\u001b[0m\u001b[0mLC_ALL\u001b[0m\u001b[1;33m,\u001b[0m \u001b[1;34m''\u001b[0m\u001b[1;33m)\u001b[0m \u001b[1;31m#this lets us put commas every three digits\u001b[0m\u001b[1;33m\u001b[0m\u001b[0m\n\u001b[0;32m      5\u001b[0m \u001b[1;33m\u001b[0m\u001b[0m\n",
      "\u001b[1;32m/projects/550ef384-d32f-4400-a155-56cb03cacce5/.local/lib/python2.7/site-packages/mcerp/__init__.py\u001b[0m in \u001b[0;36m<module>\u001b[1;34m()\u001b[0m\n\u001b[0;32m     10\u001b[0m \u001b[1;32mimport\u001b[0m \u001b[0mnumpy\u001b[0m \u001b[1;32mas\u001b[0m \u001b[0mnp\u001b[0m\u001b[1;33m\u001b[0m\u001b[0m\n\u001b[0;32m     11\u001b[0m \u001b[1;32mimport\u001b[0m \u001b[0mscipy\u001b[0m\u001b[1;33m.\u001b[0m\u001b[0mstats\u001b[0m \u001b[1;32mas\u001b[0m \u001b[0mss\u001b[0m\u001b[1;33m\u001b[0m\u001b[0m\n\u001b[1;32m---> 12\u001b[1;33m \u001b[1;32mimport\u001b[0m \u001b[0mmatplotlib\u001b[0m\u001b[1;33m.\u001b[0m\u001b[0mpyplot\u001b[0m \u001b[1;32mas\u001b[0m \u001b[0mplt\u001b[0m\u001b[1;33m\u001b[0m\u001b[0m\n\u001b[0m\u001b[0;32m     13\u001b[0m \u001b[1;32mfrom\u001b[0m \u001b[0mlhd\u001b[0m \u001b[1;32mimport\u001b[0m \u001b[0mlhd\u001b[0m\u001b[1;33m\u001b[0m\u001b[0m\n\u001b[0;32m     14\u001b[0m \u001b[1;33m\u001b[0m\u001b[0m\n",
      "\u001b[1;32m/projects/550ef384-d32f-4400-a155-56cb03cacce5/.local/lib/python2.7/site-packages/matplotlib/pyplot.py\u001b[0m in \u001b[0;36m<module>\u001b[1;34m()\u001b[0m\n\u001b[0;32m    107\u001b[0m \u001b[1;33m\u001b[0m\u001b[0m\n\u001b[0;32m    108\u001b[0m \u001b[1;32mfrom\u001b[0m \u001b[0mmatplotlib\u001b[0m\u001b[1;33m.\u001b[0m\u001b[0mbackends\u001b[0m \u001b[1;32mimport\u001b[0m \u001b[0mpylab_setup\u001b[0m\u001b[1;33m\u001b[0m\u001b[0m\n\u001b[1;32m--> 109\u001b[1;33m \u001b[0m_backend_mod\u001b[0m\u001b[1;33m,\u001b[0m \u001b[0mnew_figure_manager\u001b[0m\u001b[1;33m,\u001b[0m \u001b[0mdraw_if_interactive\u001b[0m\u001b[1;33m,\u001b[0m \u001b[0m_show\u001b[0m \u001b[1;33m=\u001b[0m \u001b[0mpylab_setup\u001b[0m\u001b[1;33m(\u001b[0m\u001b[1;33m)\u001b[0m\u001b[1;33m\u001b[0m\u001b[0m\n\u001b[0m\u001b[0;32m    110\u001b[0m \u001b[1;33m\u001b[0m\u001b[0m\n\u001b[0;32m    111\u001b[0m \u001b[1;33m\u001b[0m\u001b[0m\n",
      "\u001b[1;32m/projects/550ef384-d32f-4400-a155-56cb03cacce5/.local/lib/python2.7/site-packages/matplotlib/backends/__init__.pyc\u001b[0m in \u001b[0;36mpylab_setup\u001b[1;34m()\u001b[0m\n\u001b[0;32m     30\u001b[0m     \u001b[1;31m# imports. 0 means only perform absolute imports.\u001b[0m\u001b[1;33m\u001b[0m\u001b[1;33m\u001b[0m\u001b[0m\n\u001b[0;32m     31\u001b[0m     backend_mod = __import__(backend_name,\n\u001b[1;32m---> 32\u001b[1;33m                              globals(),locals(),[backend_name],0)\n\u001b[0m\u001b[0;32m     33\u001b[0m \u001b[1;33m\u001b[0m\u001b[0m\n\u001b[0;32m     34\u001b[0m     \u001b[1;31m# Things we pull in from all backends\u001b[0m\u001b[1;33m\u001b[0m\u001b[1;33m\u001b[0m\u001b[0m\n",
      "\u001b[1;32m/projects/550ef384-d32f-4400-a155-56cb03cacce5/.local/lib/python2.7/site-packages/matplotlib/backends/backend_qt5agg.py\u001b[0m in \u001b[0;36m<module>\u001b[1;34m()\u001b[0m\n\u001b[0;32m     16\u001b[0m \u001b[1;33m\u001b[0m\u001b[0m\n\u001b[0;32m     17\u001b[0m \u001b[1;32mfrom\u001b[0m \u001b[1;33m.\u001b[0m\u001b[0mbackend_agg\u001b[0m \u001b[1;32mimport\u001b[0m \u001b[0mFigureCanvasAgg\u001b[0m\u001b[1;33m\u001b[0m\u001b[0m\n\u001b[1;32m---> 18\u001b[1;33m \u001b[1;32mfrom\u001b[0m \u001b[1;33m.\u001b[0m\u001b[0mbackend_qt5\u001b[0m \u001b[1;32mimport\u001b[0m \u001b[0mQtCore\u001b[0m\u001b[1;33m\u001b[0m\u001b[0m\n\u001b[0m\u001b[0;32m     19\u001b[0m \u001b[1;32mfrom\u001b[0m \u001b[1;33m.\u001b[0m\u001b[0mbackend_qt5\u001b[0m \u001b[1;32mimport\u001b[0m \u001b[0mQtGui\u001b[0m\u001b[1;33m\u001b[0m\u001b[0m\n\u001b[0;32m     20\u001b[0m \u001b[1;32mfrom\u001b[0m \u001b[1;33m.\u001b[0m\u001b[0mbackend_qt5\u001b[0m \u001b[1;32mimport\u001b[0m \u001b[0mFigureManagerQT\u001b[0m\u001b[1;33m\u001b[0m\u001b[0m\n",
      "\u001b[1;32m/projects/550ef384-d32f-4400-a155-56cb03cacce5/.local/lib/python2.7/site-packages/matplotlib/backends/backend_qt5.py\u001b[0m in \u001b[0;36m<module>\u001b[1;34m()\u001b[0m\n\u001b[0;32m     29\u001b[0m     \u001b[0mfigureoptions\u001b[0m \u001b[1;33m=\u001b[0m \u001b[0mNone\u001b[0m\u001b[1;33m\u001b[0m\u001b[0m\n\u001b[0;32m     30\u001b[0m \u001b[1;33m\u001b[0m\u001b[0m\n\u001b[1;32m---> 31\u001b[1;33m \u001b[1;32mfrom\u001b[0m \u001b[1;33m.\u001b[0m\u001b[0mqt_compat\u001b[0m \u001b[1;32mimport\u001b[0m \u001b[0mQtCore\u001b[0m\u001b[1;33m,\u001b[0m \u001b[0mQtGui\u001b[0m\u001b[1;33m,\u001b[0m \u001b[0mQtWidgets\u001b[0m\u001b[1;33m,\u001b[0m \u001b[0m_getSaveFileName\u001b[0m\u001b[1;33m,\u001b[0m \u001b[0m__version__\u001b[0m\u001b[1;33m\u001b[0m\u001b[0m\n\u001b[0m\u001b[0;32m     32\u001b[0m \u001b[1;32mfrom\u001b[0m \u001b[0mmatplotlib\u001b[0m\u001b[1;33m.\u001b[0m\u001b[0mbackends\u001b[0m\u001b[1;33m.\u001b[0m\u001b[0mqt_editor\u001b[0m\u001b[1;33m.\u001b[0m\u001b[0mformsubplottool\u001b[0m \u001b[1;32mimport\u001b[0m \u001b[0mUiSubplotTool\u001b[0m\u001b[1;33m\u001b[0m\u001b[0m\n\u001b[0;32m     33\u001b[0m \u001b[1;33m\u001b[0m\u001b[0m\n",
      "\u001b[1;32m/projects/550ef384-d32f-4400-a155-56cb03cacce5/.local/lib/python2.7/site-packages/matplotlib/backends/qt_compat.py\u001b[0m in \u001b[0;36m<module>\u001b[1;34m()\u001b[0m\n\u001b[0;32m    124\u001b[0m \u001b[1;33m\u001b[0m\u001b[0m\n\u001b[0;32m    125\u001b[0m \u001b[1;32melse\u001b[0m\u001b[1;33m:\u001b[0m  \u001b[1;31m# try importing pyside\u001b[0m\u001b[1;33m\u001b[0m\u001b[0m\n\u001b[1;32m--> 126\u001b[1;33m     \u001b[1;32mfrom\u001b[0m \u001b[0mPySide\u001b[0m \u001b[1;32mimport\u001b[0m \u001b[0mQtCore\u001b[0m\u001b[1;33m,\u001b[0m \u001b[0mQtGui\u001b[0m\u001b[1;33m,\u001b[0m \u001b[0m__version__\u001b[0m\u001b[1;33m,\u001b[0m \u001b[0m__version_info__\u001b[0m\u001b[1;33m\u001b[0m\u001b[0m\n\u001b[0m\u001b[0;32m    127\u001b[0m     \u001b[1;32mif\u001b[0m \u001b[0m__version_info__\u001b[0m \u001b[1;33m<\u001b[0m \u001b[1;33m(\u001b[0m\u001b[1;36m1\u001b[0m\u001b[1;33m,\u001b[0m \u001b[1;36m0\u001b[0m\u001b[1;33m,\u001b[0m \u001b[1;36m3\u001b[0m\u001b[1;33m)\u001b[0m\u001b[1;33m:\u001b[0m\u001b[1;33m\u001b[0m\u001b[0m\n\u001b[0;32m    128\u001b[0m         raise ImportError(\n",
      "\u001b[1;31mImportError\u001b[0m: No module named PySide"
     ]
    }
   ],
   "source": [
    "from mcerp import N, umath, LogN, Gamma  # N, U, Gamma, Beta, correlate, etc.\n",
    "import numpy as np\n",
    "import locale\n",
    "locale.setlocale(locale.LC_ALL, '') #this lets us put commas every three digits\n",
    "\n",
    "#coefficients for Z=6 from Epperlein and Haines\n",
    "Ap1=3.13\n",
    "Ap0=1.80\n",
    "ap1=6.29\n",
    "ap0=2.79\n",
    "gp1=3.49\n",
    "g0=8.231\n",
    "cp2=8.96\n",
    "cp1=4.83\n",
    "cp0=1.04\n",
    "Bpp1=1.5\n",
    "Bpp0=3.05\n",
    "bpp2=7.83\n",
    "bpp1=3.48\n",
    "bpp0=0.718\n",
    "\n",
    "#useful function tht really should be built in....rounds to n sig figs\n",
    "round_to_n = lambda x, n: round(x, -int(np.floor(np.log10(np.abs(x)))) + (n - 1)) \n",
    "\n",
    "def str_nsf(x, n):\n",
    "    #returns a string to n significant figures, and nicely formatted too!\n",
    "    x_sig_figs=int(np.floor(np.log10(np.abs(x)))) #sig figs of x\n",
    "    xsf=round_to_n(x,n)\n",
    "    if xsf>=1:\n",
    "        p=locale.format(\"%.0f\",xsf, grouping=True)\n",
    "    else:\n",
    "        p=locale.format(\"%.\"+str(np.abs(x_sig_figs)+n-1)+\"f\",xsf, grouping=True)\n",
    "    return p\n",
    "\n",
    "class Plasma:\n",
    "    #A is m_i/m_p, Z is effective nuclear charge, n_e in cm^-3, T, T_e, T_i in eV, B in Tesla\n",
    "    #V is a charateristic speed in cm/s, L is a length scale in cm\n",
    "    def __init__(self, A, Z, n_e, T=None, T_e=None, T_i=None, B=None, V=None, L=None):\n",
    "        self.T_e=T_e\n",
    "        self.T_i=T_i\n",
    "        self.A=A\n",
    "        self.Z=Z\n",
    "        self.n_e=n_e\n",
    "        self.B=B\n",
    "        self.V=V\n",
    "        self.L=L\n",
    "        self.params()\n",
    "    def params(self):\n",
    "        B=np.abs(self.B*1e4)#convert to gauss for cgs compatibility\n",
    "        Z=self.Z\n",
    "        A=self.A\n",
    "        n_i=self.n_e/Z\n",
    "        n_e=self.n_e\n",
    "        T_i=self.T_i\n",
    "        T_e=self.T_e\n",
    "        V=np.abs(self.V)\n",
    "        #Lots of definitions of the coloumb logarithm\n",
    "        self.col_log_ee=23.5-log_mean(n_e**0.5*T_e**-1.25)-(1e-5+((log_mean(T_e)-2)**2)/16.0)**0.5\n",
    "        self.col_log_ei=col_log_ei(T_e, n_e,Z)\n",
    "        self.col_log_ii=23-log_mean(np.sqrt(2)*n_i**0.5*Z**3*T_i**-1.5)\n",
    "        #frequencies\n",
    "        self.nu_ei=2.91e-6*Z*n_e*self.col_log_ei*T_e**-1.5#electrons on ions\n",
    "        self.nu_ie=4.80e-8*Z**4*A**-0.5*n_i*self.col_log_ei*T_i**-1.5 #ions on electrons\n",
    "        self.om_ce=1.76e7*B\n",
    "        self.om_ci=9.58e3*B*Z/A\n",
    "        self.om_pe=5.64e4*n_e**0.5\n",
    "        self.om_pi=1.32e3*Z*A**-0.5*n_i**0.5\n",
    "        m_i=A*1.66e-24#grams\n",
    "        m_e=9.11e-28#grams\n",
    "        self.nu_eq=1.8e-19*(m_i*m_e)**0.5*Z**2*n_e*self.col_log_ei/(m_i*T_e+m_e*T_i)**1.5\n",
    "        self.tau_e=1/self.nu_eq\n",
    "        #velocities\n",
    "        self.V_te=4.19e7*T_e**0.5\n",
    "        self.V_ti=9.79e5*A**-0.5*T_i**0.5\n",
    "        self.V_S=9.79e5*A**-0.5*(Z*T_e+T_i)**0.5\n",
    "        self.V_A=2.18e11*A**-0.5*n_i**-0.5*B\n",
    "        #length scales\n",
    "        self.la_de=7.43e2*T_e**0.5*n_e**-0.5\n",
    "        self.delta_i=3e10/self.om_pi#ion skin depth\n",
    "        self.delta_e=3e10/self.om_pe#electron skin depth\n",
    "        self.rho_i=self.V_ti/self.om_ci#cm\n",
    "        self.rho_e=self.V_te/self.om_ce#cm\n",
    "        self.mfp_i=self.V_ti/self.nu_ie#cm\n",
    "        self.mfp_e=self.V_te/self.nu_ei#cm\n",
    "        #other\n",
    "        self.eta_perp=1.03e-2*self.Z*self.col_log_ei*self.T_e**-1.5 #Ohm cm\n",
    "        self.sigma_par=0.028*n_e/self.nu_ei#this could be in SI. Probably check before using elsewhere...\n",
    "        self.KE=0.5*m_i*self.V**2*1e-7/1.6e-19#convert to SI (1e-7 ergs) and then to eV (1.6e-19)\n",
    "        self.KE_Therm=self.KE/1.5\n",
    "        #dimensionless parameters\n",
    "        self.beta=2.03e-11*(n_e*T_e+n_i*T_i)/B**2#note coefficient is half of NRL as we have Z=/=1\n",
    "        self.beta_kin=(2*np.pi*A*1.67e-24*n_i*self.V**2)/(B**2)#CGS formulation\n",
    "        self.i_mag=self.om_ci/self.nu_ie\n",
    "        self.e_mag=self.om_ce/self.nu_ei\n",
    "        self.Rm_old=4e-11*np.pi*self.V*self.L*self.sigma_par#mu_0*sigma*V*L in SI, so some CGS->SI conversion here \n",
    "        self.Rm=1e2*4e-11*np.pi*self.V*self.L/self.eta_perp#mu_0*V*L/eta_perp in SI, so some CGS->SI conversion here \n",
    "        self.Al=self.V_A/self.V #Alfven number\n",
    "        self.S=self.Al*self.Rm #Lundquist number\n",
    "        chi=self.e_mag #this makes life easier for the next equation\n",
    "        self.kappa_c_perp=(gp1*chi+g0)/(chi**3+cp2*chi**2+cp1*chi*cp0)#Epperlein and Haines\n",
    "        self.H=self.kappa_c_perp*self.beta*self.e_mag/5.0#Haines number, Hall/Nernst, Joglekar 2014\n",
    "        self.S_N=self.H*self.e_mag #Lundquist Nernst number #Joglekar 2014\n",
    "        self.M_s=V/self.V_S\n",
    "        self.M_a=V/self.V_A\n",
    "    def print_dim_params(self):\n",
    "        im='Ion magnetisation = '+str(round_to_n(self.i_mag,2))\n",
    "        em='Electron magnetisation = '+str(round_to_n(self.e_mag,2))\n",
    "        b='Thermal Beta = '+str(round_to_n(self.beta,2))\n",
    "        br='Kinetic Beta = '+str(round_to_n(self.beta_kin,2))\n",
    "        rm='Magnetic Reynolds Number = '+str(round_to_n(self.Rm,2))\n",
    "        S='Lundquist number = '+str(round_to_n(self.S,2))\n",
    "        H='Haines number = '+str(round_to_n(self.H,2))\n",
    "        m='Mach number = '+str(round_to_n(self.M_s,2))\n",
    "        ma='Mach-Alfven number = '+str(round_to_n(self.M_a,2))\n",
    "\n",
    "        txtstr=im+'\\n'+em+'\\n'+b+'\\n'+br+'\\n'+m+'\\n'+ma+'\\n'+rm+'\\n'+S+'\\n'+H\n",
    "        print txtstr\n",
    "\n",
    "def col_log_ei(T_e,n_e,Z):\n",
    "    if T_e<10*Z**2: #see NRL formulary pg 34\n",
    "        col_log=23-log_mean(n_e**0.5*Z*T_e**-1.5)\n",
    "    else:\n",
    "        col_log=24-log_mean(n_e**0.5*T_e**-1.0)\n",
    "    return col_log\n",
    "\n",
    "def log_mean(X):\n",
    "    return np.log(X.mean)\n",
    "\n",
    "def Gamma_mu_sig(mu,sig):\n",
    "    k=mu**2/sig\n",
    "    theta=sig/mu\n",
    "    return Gamma(k, theta)"
   ]
  },
  {
   "cell_type": "code",
   "execution_count": 33,
   "metadata": {
    "collapsed": false
   },
   "outputs": [
    {
     "data": {
      "text/plain": [
       "uv(15.0317501628, 61.0177386599, 1.31119359429, 5.97138148518)"
      ]
     },
     "execution_count": 33,
     "metadata": {},
     "output_type": "execute_result"
    }
   ],
   "source": [
    "p_p={'A':12,'Z':4,'n_e':N(6e17, 0.5e17),'T_e': Gamma(10, 8),'T_i':N(500, 20),'B': N(6, 1), 'V':N(6e5,1e5),'L':1.0}\n",
    "plas=Plasma(**p_p)\n",
    "plas.e_mag"
   ]
  },
  {
   "cell_type": "code",
   "execution_count": 32,
   "metadata": {
    "collapsed": false
   },
   "outputs": [
    {
     "data": {
      "image/png": "[encoded data removed]",
      "text/plain": [
       "<matplotlib.figure.Figure at 0x7fcf23184890>"
      ]
     },
     "metadata": {},
     "output_type": "display_data"
    }
   ],
   "source": [
    "%matplotlib inline\n",
    "Gamma_mu_sig(10, 8).plot()"
   ]
  }
 ],
 "metadata": {
  "kernelspec": {
   "display_name": "Python 2",
   "language": "python",
   "name": "python2"
  },
  "language_info": {
   "codemirror_mode": {
    "name": "ipython",
    "version": 2
   },
   "file_extension": ".py",
   "mimetype": "text/x-python",
   "name": "python",
   "nbconvert_exporter": "python",
   "pygments_lexer": "ipython2",
   "version": "2.7.9"
  },
  "name": "Error analysis.ipynb"
 },
 "nbformat": 4,
 "nbformat_minor": 0
}
