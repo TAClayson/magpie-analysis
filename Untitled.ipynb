{
 "cells": [
  {
   "cell_type": "code",
   "execution_count": 1,
   "metadata": {
    "collapsed": true
   },
   "outputs": [],
   "source": [
    "# Learn about API authentication here: https://plot.ly/python/getting-started\n",
    "# Find your api_key here: https://plot.ly/settings/api\n",
    "\n",
    "import plotly.plotly as py\n",
    "from plotly.tools import FigureFactory as FF\n",
    "\n",
    "import numpy as np\n",
    "\n",
    "# Add data\n",
    "x = np.linspace(-3, 3, 100)\n",
    "y = np.linspace(-3, 3, 100)\n",
    "Y, X = np.meshgrid(x, y)\n",
    "u = -1 - X**2 + Y\n",
    "v = 1 + X - Y**2\n",
    "\n",
    "# Create streamline figure\n",
    "fig = FF.create_streamline(x, y, u, v, arrow_scale=.1)\n",
    "\n",
    "# Plot\n",
    "url = py.plot(fig, filename='Streamline Plot Example')"
   ]
  },
  {
   "cell_type": "code",
   "execution_count": 3,
   "metadata": {
    "collapsed": false
   },
   "outputs": [
    {
     "name": "stdout",
     "output_type": "stream",
     "text": [
      "C:\\Users\\jdavies\\Google Drive\\MAGPIE\\data\\2015\\s0513_15 RECONNECTION - Carbon repeat\n"
     ]
    }
   ],
   "source": [
    "%cd \"~\\Google Drive\\MAGPIE\\data\\2015\\s0513_15 RECONNECTION - Carbon repeat\"\n",
    "eo=np.loadtxt(open('s0513_15 neL end on.txt',\"r\"),delimiter=\",\")\n",
    "eo=np.nan_to_num(eo)"
   ]
  },
  {
   "cell_type": "code",
   "execution_count": 15,
   "metadata": {
    "collapsed": false
   },
   "outputs": [],
   "source": [
    "import plotly.plotly as py\n",
    "import plotly.graph_objs as go\n",
    "\n",
    "data = [\n",
    "    go.Surface(\n",
    "        z=eo[1100:1600,2400:2600]\n",
    "    )\n",
    "]\n",
    "\n",
    "fig = go.Figure(data=data)\n",
    "plot_url = py.plot(fig, filename='elevations-3d-surface')"
   ]
  },
  {
   "cell_type": "code",
   "execution_count": 5,
   "metadata": {
    "collapsed": false
   },
   "outputs": [
    {
     "ename": "SyntaxError",
     "evalue": "Missing parentheses in call to 'print' (<ipython-input-5-2df46cfa5994>, line 2)",
     "output_type": "error",
     "traceback": [
      "\u001b[1;36m  File \u001b[1;32m\"<ipython-input-5-2df46cfa5994>\"\u001b[1;36m, line \u001b[1;32m2\u001b[0m\n\u001b[1;33m    print plotly.__version__            # version 1.9.x required\u001b[0m\n\u001b[1;37m               ^\u001b[0m\n\u001b[1;31mSyntaxError\u001b[0m\u001b[1;31m:\u001b[0m Missing parentheses in call to 'print'\n"
     ]
    }
   ],
   "source": [
    "import plotly\n",
    "print plotly.__version__            # version 1.9.x required\n",
    "plotly.offline.init_notebook_mode() # run at the start of every notebook\n",
    "plotly.offline.iplot({\n",
    "    \"data\": [{\n",
    "        \"x\": [1, 2, 3],\n",
    "        \"y\": [4, 2, 5]\n",
    "    }],\n",
    "    \"layout\": {\n",
    "        \"title\": \"hello world\"\n",
    "    }\n",
    "})"
   ]
  },
  {
   "cell_type": "code",
   "execution_count": 17,
   "metadata": {
    "collapsed": false
   },
   "outputs": [],
   "source": [
    "plotly.offline.iplot?"
   ]
  },
  {
   "cell_type": "code",
   "execution_count": null,
   "metadata": {
    "collapsed": true
   },
   "outputs": [],
   "source": []
  }
 ],
 "metadata": {
  "kernelspec": {
   "display_name": "Python 3",
   "language": "python",
   "name": "python3"
  },
  "language_info": {
   "codemirror_mode": {
    "name": "ipython",
    "version": 3
   },
   "file_extension": ".py",
   "mimetype": "text/x-python",
   "name": "python",
   "nbconvert_exporter": "python",
   "pygments_lexer": "ipython3",
   "version": "3.4.3"
  }
 },
 "nbformat": 4,
 "nbformat_minor": 0
}
