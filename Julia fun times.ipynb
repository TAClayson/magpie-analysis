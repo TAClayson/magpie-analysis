{
 "cells": [
  {
   "cell_type": "code",
   "execution_count": 70,
   "metadata": {
    "collapsed": false
   },
   "outputs": [
    {
     "data": {
      "text/plain": [
       "I_sin (generic function with 1 method)"
      ]
     },
     "execution_count": 70,
     "metadata": {},
     "output_type": "execute_result"
    }
   ],
   "source": [
    "function I_sin(t, tau, I0)\n",
    "    if t<0 || t>2*tau\n",
    "        return 0\n",
    "    end\n",
    "    return I0*(sin(pi*t/(2*tau))).^2\n",
    "end"
   ]
  },
  {
   "cell_type": "code",
   "execution_count": 208,
   "metadata": {
    "collapsed": false
   },
   "outputs": [
    {
     "data": {
      "text/plain": [
       "1x500 Array{Float64,2}:\n",
       " 11.5772  11.5418  11.5054  11.4682  …  NaN  NaN  NaN  NaN  NaN  NaN  NaN"
      ]
     },
     "execution_count": 208,
     "metadata": {},
     "output_type": "execute_result"
    }
   ],
   "source": [
    "I0=1.2e6/2 #amps\n",
    "tau=240e-9 #seconds\n",
    "t=255e-9 #seconds\n",
    "A=12 #atomic mass units\n",
    "Z=4 #effective ion charge\n",
    "V=40e3 #in m/s\n",
    "R0=8e-3 #radius of array\n",
    "lamb=1053e-9#laser probing wavelength for Faraday, metres.\n",
    "\n",
    "mu_0=4e-7*pi\n",
    "m_p=1.67e-27\n",
    "\n",
    "xs=linspace(-30e-3,30e-3,500)# in metres, form is (minimum, maximum, number of points)\n",
    "ys=linspace(10e-3,30e-3,500)# in metres, form is (minimum, maximum, number of points)\n",
    "ys=ys'\n",
    "dx=xs[2]-xs[1] \n",
    "dy=ys[2]-ys[1]\n",
    "R=sqrt(xs.^2.+ys.^2) #distance from centre of array to each point, m\n",
    "ret_time=t-(R-R0)./V#retarded time taken to reach each point, seconds\n",
    "I_ret=[I_sin(t, tau, I0) for t in ret_time]\n",
    "I_ret=reshape(I_ret, 500, 500)\n",
    "ne=I_ret.^2.*(mu_0*Z)./(8*pi^2*V^2*R0*R*A*m_p) #electron density, m^-3\n",
    "B=mu_0/(2*pi*R0).*I_ret#magnetic field magnitude, T\n",
    "th=atan(xs./ys)#angle between x axis and line from the radius\n",
    "Bx=B.*ys./sqrt(xs.^2.+ ys.^2)\n",
    "\n",
    "neL=1e-4*sum(ne, 1)*dx #line average electron density cm^-2\n",
    "alpha=2.62e-13*lamb^2*sum(Bx.*ne, 1)*dx #rotation angle, radians\n",
    "Bmax=Bx[size(ys)[2]/2,:] #peak magnetic field along any radial direction - this is what we are trying to extract\n",
    "Bavg=3.4e20*alpha./neL #x component of magnetic field inferred by current analysis techniques."
   ]
  },
  {
   "cell_type": "code",
   "execution_count": 209,
   "metadata": {
    "collapsed": false
   },
   "outputs": [
    {
     "data": {
      "image/png": "[encoded data removed]",
      "text/plain": [
       "Figure(PyObject <matplotlib.figure.Figure object at 0x11c599e10>)"
      ]
     },
     "metadata": {},
     "output_type": "display_data"
    },
    {
     "data": {
      "text/plain": [
       "1-element Array{Any,1}:\n",
       " PyObject <matplotlib.lines.Line2D object at 0x11cc9ce50>"
      ]
     },
     "execution_count": 209,
     "metadata": {},
     "output_type": "execute_result"
    }
   ],
   "source": [
    "using PyPlot\n",
    "plot(1e3*ys', Bmax', color=\"red\", linewidth=2.0)"
   ]
  },
  {
   "cell_type": "code",
   "execution_count": 205,
   "metadata": {
    "collapsed": false
   },
   "outputs": [
    {
     "data": {
      "text/plain": [
       "10.369528547734218"
      ]
     },
     "execution_count": 205,
     "metadata": {},
     "output_type": "execute_result"
    }
   ],
   "source": [
    "maximum(Bx[size(ys)[2]/2,:])"
   ]
  },
  {
   "cell_type": "code",
   "execution_count": 2,
   "metadata": {
    "collapsed": false
   },
   "outputs": [
    {
     "ename": "LoadError",
     "evalue": "plot not defined\nwhile loading In[2], in expression starting on line 2",
     "output_type": "error",
     "traceback": [
      "plot not defined\nwhile loading In[2], in expression starting on line 2",
      ""
     ]
    }
   ],
   "source": [
    "using Gadfly \n",
    "plot(x=rand(10), y=rand(10), Geom.point, Geom.line)"
   ]
  },
  {
   "cell_type": "code",
   "execution_count": 1,
   "metadata": {
    "collapsed": false
   },
   "outputs": [
    {
     "ename": "LoadError",
     "evalue": "LOAD_CACHE_PATH not defined\nwhile loading /Users/jdhare/.julia/v0.3/Compose/src/Compose.jl, in expression starting on line 148\nwhile loading /Users/jdhare/.julia/v0.3/Gadfly/src/Gadfly.jl, in expression starting on line 9\nwhile loading In[1], in expression starting on line 1",
     "output_type": "error",
     "traceback": [
      "LOAD_CACHE_PATH not defined\nwhile loading /Users/jdhare/.julia/v0.3/Compose/src/Compose.jl, in expression starting on line 148\nwhile loading /Users/jdhare/.julia/v0.3/Gadfly/src/Gadfly.jl, in expression starting on line 9\nwhile loading In[1], in expression starting on line 1",
      "",
      " in include at /Applications/Julia-0.3.11.app/Contents/Resources/julia/lib/julia/sys.dylib",
      " in include_from_node1 at /Applications/Julia-0.3.11.app/Contents/Resources/julia/lib/julia/sys.dylib",
      " in reload_path at loading.jl:152",
      " in _require at loading.jl:67",
      " in require at loading.jl:54",
      " in include at /Applications/Julia-0.3.11.app/Contents/Resources/julia/lib/julia/sys.dylib",
      " in include_from_node1 at /Applications/Julia-0.3.11.app/Contents/Resources/julia/lib/julia/sys.dylib",
      " in reload_path at loading.jl:152",
      " in _require at loading.jl:67",
      " in require at loading.jl:51"
     ]
    }
   ],
   "source": [
    "using Gadfly"
   ]
  },
  {
   "cell_type": "code",
   "execution_count": 3,
   "metadata": {
    "collapsed": false
   },
   "outputs": [
    {
     "ename": "LoadError",
     "evalue": "plot not defined\nwhile loading In[3], in expression starting on line 1",
     "output_type": "error",
     "traceback": [
      "plot not defined\nwhile loading In[3], in expression starting on line 1",
      ""
     ]
    }
   ],
   "source": [
    "Gadfly.plot(x=rand(10), y=rand(10), Geom.point, Geom.line)"
   ]
  },
  {
   "cell_type": "code",
   "execution_count": 7,
   "metadata": {
    "collapsed": false
   },
   "outputs": [
    {
     "data": {
      "text/plain": [
       "eval (generic function with 2 methods)"
      ]
     },
     "execution_count": 7,
     "metadata": {},
     "output_type": "execute_result"
    }
   ],
   "source": []
  },
  {
   "cell_type": "code",
   "execution_count": null,
   "metadata": {
    "collapsed": true
   },
   "outputs": [],
   "source": []
  }
 ],
 "metadata": {
  "kernelspec": {
   "display_name": "Julia 0.3.11",
   "language": "julia",
   "name": "julia-0.3"
  },
  "language_info": {
   "file_extension": ".jl",
   "mimetype": "application/julia",
   "name": "julia",
   "version": "0.3.11"
  }
 },
 "nbformat": 4,
 "nbformat_minor": 0
}
