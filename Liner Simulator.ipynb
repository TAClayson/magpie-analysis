{
 "cells": [
  {
   "cell_type": "markdown",
   "metadata": {},
   "source": [
    "# Liner Simulator"
   ]
  },
  {
   "cell_type": "markdown",
   "metadata": {},
   "source": [
    "This code calculates the liners impedance and determins the current through it.\n",
    "\n",
    "Firstly run the code below:"
   ]
  },
  {
   "cell_type": "code",
   "execution_count": 30,
   "metadata": {
    "collapsed": false
   },
   "outputs": [],
   "source": [
    "from SourceCode.Liner import *\n",
    "from SourceCode.MAGPIE import *"
   ]
  },
  {
   "cell_type": "markdown",
   "metadata": {},
   "source": [
    "Set the variables of the liner.\n",
    "* length in mm\n",
    "* diameter in mm\n",
    "* thickness in μm\n",
    "* materials: \"steel\"\n"
   ]
  },
  {
   "cell_type": "code",
   "execution_count": 31,
   "metadata": {
    "collapsed": true
   },
   "outputs": [],
   "source": [
    "length = 20e-3\n",
    "diameter = 11e-3/2\n",
    "thickness = 0.1e-3\n",
    "material = \"iron\""
   ]
  },
  {
   "cell_type": "markdown",
   "metadata": {},
   "source": [
    "This next cell creates an object ('L') which knows about all of the liner you've specified above. It also creates a default MAGPIE object M"
   ]
  },
  {
   "cell_type": "code",
   "execution_count": 32,
   "metadata": {
    "collapsed": false
   },
   "outputs": [
    {
     "name": "stdout",
     "output_type": "stream",
     "text": [
      "Liner resistance: 0.0010243278718706057 Ω\n",
      "Liner inductance: 1.9047619047619036e-10 H\n"
     ]
    }
   ],
   "source": [
    "L = Liner(material=material, diameter=diameter, length=length, thickness=thickness)\n",
    "M = MAGPIE()\n",
    "print(\"Liner resistance: \"+str(L.resistance)+\" Ω\")\n",
    "print(\"Liner inductance: \"+str(L.inductance)+\" H\")"
   ]
  },
  {
   "cell_type": "markdown",
   "metadata": {
    "collapsed": true
   },
   "source": [
    "Next we calculate atributes of the gas cell and use this to determin the voltage at the top of the liner at peak current."
   ]
  },
  {
   "cell_type": "code",
   "execution_count": 33,
   "metadata": {
    "collapsed": false
   },
   "outputs": [
    {
     "name": "stdout",
     "output_type": "stream",
     "text": [
      "Gas cell impedance: 0.28559933214452665 Ω\n",
      "Parralel impedance: 0.28559933214452665 Ω\n",
      "Top voltage: 4435.040656169793 V\n"
     ]
    }
   ],
   "source": [
    "GascellInductance = 20e-9\n",
    "GascellImpedance = GascellInductance * 2*math.pi / (M.currentRise*2)\n",
    "print(\"Gas cell impedance: \"+str(GascellImpedance)+\" Ω\")\n",
    "\n",
    "parralelResistance = 1/( 1/L.Impedance(1/(M.currentRise*2)) + 1/GascellImpedance )\n",
    "topVoltage = parralelResistance * M.currentMax\n",
    "print(\"Parralel impedance: \"+str(GascellImpedance)+\" Ω\")\n",
    "print(\"Top voltage: \"+str(topVoltage)+\" V\")"
   ]
  },
  {
   "cell_type": "markdown",
   "metadata": {
    "collapsed": true
   },
   "source": [
    "Finally we calculate the current through the liner and through the gas cell."
   ]
  },
  {
   "cell_type": "code",
   "execution_count": 34,
   "metadata": {
    "collapsed": false
   },
   "outputs": [
    {
     "name": "stdout",
     "output_type": "stream",
     "text": [
      "Liner: 1184471.1098486555 A\n",
      "Gas cell: 15528.890151344802 A\n"
     ]
    }
   ],
   "source": [
    "I_liner = topVoltage / L.Impedance(1/(M.currentRise*2))\n",
    "I_gascell = topVoltage / GascellImpedance\n",
    "\n",
    "print(\"Liner: \"+str(I_liner)+\" A\")\n",
    "print(\"Gas cell: \"+str(I_gascell)+\" A\")"
   ]
  },
  {
   "cell_type": "markdown",
   "metadata": {},
   "source": [
    "We can now calculate the magnetic field inside the gas cell."
   ]
  },
  {
   "cell_type": "code",
   "execution_count": 40,
   "metadata": {
    "collapsed": false
   },
   "outputs": [
    {
     "name": "stdout",
     "output_type": "stream",
     "text": [
      "Bfield: 0.01951417888714709 T\n"
     ]
    }
   ],
   "source": [
    "Bfield = 4e-7 * math.pi * I_gascell\n",
    "print(\"Bfield: \"+str(Bfield)+\" T\")"
   ]
  },
  {
   "cell_type": "code",
   "execution_count": null,
   "metadata": {
    "collapsed": true
   },
   "outputs": [],
   "source": []
  }
 ],
 "metadata": {
  "anaconda-cloud": {},
  "kernelspec": {
   "display_name": "Python [conda root]",
   "language": "python",
   "name": "conda-root-py"
  },
  "language_info": {
   "codemirror_mode": {
    "name": "ipython",
    "version": 3
   },
   "file_extension": ".py",
   "mimetype": "text/x-python",
   "name": "python",
   "nbconvert_exporter": "python",
   "pygments_lexer": "ipython3",
   "version": "3.5.2"
  }
 },
 "nbformat": 4,
 "nbformat_minor": 1
}
