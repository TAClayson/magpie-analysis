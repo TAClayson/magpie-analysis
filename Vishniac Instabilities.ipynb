{
 "cells": [
  {
   "cell_type": "markdown",
   "metadata": {},
   "source": [
    "# Vishniac Instabilities"
   ]
  },
  {
   "cell_type": "code",
   "execution_count": 10,
   "metadata": {
    "collapsed": false
   },
   "outputs": [],
   "source": [
    "import numpy as np\n",
    "\n",
    "def VisniacGrowthRate(wavelength=100e-6, density=0.0017, shockThickness=40e-6, compression=4, velocity=5e3):\n",
    "    k = 2 * np.pi / wavelength\n",
    "    sigma = density*compression*shockThickness\n",
    "    return velocity/2 * np.sqrt( k * density / sigma )"
   ]
  },
  {
   "cell_type": "markdown",
   "metadata": {},
   "source": [
    "Calculations based formula from [\"Investigation of Ultrafast Laser-Driven Radiative Blast Waves\" PRL Edwards 2001](http://journals.aps.org/prl/abstract/10.1103/PhysRevLett.87.085004)\n",
    "\n",
    "For perturbation wavelengths much larger than the shock thickness:\n",
    "\n",
    "$ \\Gamma = Real \\Big[ \\frac { P^{2} - \\rho v^{2} }{ \\sigma^{2} } \\Big]^{1/4} \\sqrt{k}$\n",
    "\n",
    "* $\\Gamma$ = Growth rate (\\s)\n",
    "* $p$ = pressure (Pa)\n",
    "* $k$ = perturbation wavenumber (\\m)\n",
    "* $\\rho$ = initial mass density (\\m^3)\n",
    "* $\\sigma$ = shocked shell areal density (kg\\m^2)\n",
    "\n",
    "For a Sedov Regime ($\\gamma \\sim 1$) this may be approximated as:\n",
    "\n",
    "$ \\Gamma = \\sqrt{ \\frac{ k p }{ 2 \\sigma } }$\n",
    "\n",
    "Assuming the ram pressure $p \\sim \\rho v^{2} /2$ this may be written as:\n",
    "\n",
    "$ \\Gamma = \\frac{ v }{ 2 } \\sqrt{ \\frac{ k p }{ \\sigma } }$\n",
    "\n",
    "Growth factor $ = exp \\Big[ \\int_{t_{0}}^{t} \\Gamma dt' \\Big]$\n",
    "\n",
    "Below is the test case attempting to reproduce results found in the paper:"
   ]
  },
  {
   "cell_type": "code",
   "execution_count": 12,
   "metadata": {
    "collapsed": false
   },
   "outputs": [
    {
     "name": "stdout",
     "output_type": "stream",
     "text": [
      "Growth rate for Edwards PRL 2001: 49541591.2201 /s\n",
      "Growth factor over 90 ns : x86.3788807189 ~ x40\n"
     ]
    }
   ],
   "source": [
    "print(\"Growth rate for Edwards PRL 2001: \"+str(VisniacGrowthRate())+\" /s\")\n",
    "print(\"Growth factor over 90 ns : x\"+str( np.exp(VisniacGrowthRate()*90e-9)) +\" ~ x40\" )"
   ]
  },
  {
   "cell_type": "markdown",
   "metadata": {},
   "source": [
    "Set variables for your shock and run the code block below:"
   ]
  },
  {
   "cell_type": "code",
   "execution_count": 25,
   "metadata": {
    "collapsed": false
   },
   "outputs": [
    {
     "name": "stdout",
     "output_type": "stream",
     "text": [
      "Growth rate: 6605545.49601 /s\n",
      "Growth factor in 200.0 ns: x3.74757550617\n"
     ]
    }
   ],
   "source": [
    "wavelength = 3e-3 #purturbation wavelength in m\n",
    "density = 0.039 #initial density in mg/cc = kg/m^3\n",
    "shockThickness = 300e-6 #thickness of the shock\n",
    "compression = 4\n",
    "velocity = 10e3 #shock velocity in m/s\n",
    "time = 200e-9 #time over which we observe growth\n",
    "\n",
    "growthRate = VisniacGrowthRate(wavelength=wavelength, density=density, shockThickness=shockThickness, compression=compression, velocity=velocity)\n",
    "print(\"Growth rate: \"+str(growthRate)+\" /s\")\n",
    "growthFactor = np.exp( growthRate * time )\n",
    "print(\"Growth factor in \"+str(time*1e9)+\" ns: x\"+str(growthFactor))"
   ]
  },
  {
   "cell_type": "code",
   "execution_count": null,
   "metadata": {
    "collapsed": true
   },
   "outputs": [],
   "source": []
  }
 ],
 "metadata": {
  "anaconda-cloud": {},
  "kernelspec": {
   "display_name": "Python [conda root]",
   "language": "python",
   "name": "conda-root-py"
  },
  "language_info": {
   "codemirror_mode": {
    "name": "ipython",
    "version": 3
   },
   "file_extension": ".py",
   "mimetype": "text/x-python",
   "name": "python",
   "nbconvert_exporter": "python",
   "pygments_lexer": "ipython3",
   "version": "3.5.2"
  }
 },
 "nbformat": 4,
 "nbformat_minor": 1
}
