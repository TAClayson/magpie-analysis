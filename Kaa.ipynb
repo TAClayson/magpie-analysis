{
 "cells": [
  {
   "cell_type": "code",
   "execution_count": 1,
   "metadata": {
    "collapsed": false
   },
   "outputs": [],
   "source": [
    "%matplotlib qt\n",
    "from scipy.ndimage.measurements import label, find_objects\n",
    "import numpy as np\n",
    "import matplotlib.pyplot as plt"
   ]
  },
  {
   "cell_type": "code",
   "execution_count": 2,
   "metadata": {
    "collapsed": false
   },
   "outputs": [
    {
     "name": "stdout",
     "output_type": "stream",
     "text": [
      "C:\\Users\\jdavies\\Google Drive\\MAGPIE\\data\\2015\\s1029_15 Reconnection C 32 Wire TS in layer 280 ns\n"
     ]
    }
   ],
   "source": [
    "cd \"C:\\Users\\jdavies\\Google Drive\\MAGPIE\\data\\2015\\s1029_15 Reconnection C 32 Wire TS in layer 280 ns\""
   ]
  },
  {
   "cell_type": "code",
   "execution_count": 12,
   "metadata": {
    "collapsed": true
   },
   "outputs": [],
   "source": [
    "t=plt.imread('s1029_15 532 plasma.png')\n",
    "t=t.sum(axis=2)\n",
    "th=-np.clip(t,a_min=-10, a_max=2)+2"
   ]
  },
  {
   "cell_type": "code",
   "execution_count": 85,
   "metadata": {
    "collapsed": false
   },
   "outputs": [],
   "source": [
    "structure=np.ones((3,3))\n",
    "labeled_array, num_features = label(th, structure=structure)\n",
    "la=np.ma.masked_equal(labeled_array, 0)"
   ]
  },
  {
   "cell_type": "code",
   "execution_count": 27,
   "metadata": {
    "collapsed": false
   },
   "outputs": [],
   "source": [
    "fig, ax= plt.subplots()\n",
    "ii=ax.imshow(-np.ma.masked_equal(la, 0)/300.0, interpolation='none')"
   ]
  },
  {
   "cell_type": "code",
   "execution_count": 92,
   "metadata": {
    "collapsed": false,
    "scrolled": true
   },
   "outputs": [
    {
     "name": "stdout",
     "output_type": "stream",
     "text": [
      "click MPL MouseEvent: xy=(187,248) xydata=(901.10460251,1405.85774059) button=1 dblclick=False inaxes=Axes(0.157585,0.1;0.70983x0.8)\n",
      "click MPL MouseEvent: xy=(187,248) xydata=(901.10460251,1405.85774059) button=1 dblclick=True inaxes=Axes(0.157585,0.1;0.70983x0.8)\n",
      "Begin Line\n",
      "click MPL MouseEvent: xy=(233,219) xydata=(1382.27615063,1709.20502092) button=1 dblclick=False inaxes=Axes(0.157585,0.1;0.70983x0.8)\n",
      "Add segment\n",
      "click MPL MouseEvent: xy=(319,221) xydata=(2281.85774059,1688.28451883) button=1 dblclick=False inaxes=Axes(0.157585,0.1;0.70983x0.8)\n",
      "Add segment\n",
      "click MPL MouseEvent: xy=(425,247) xydata=(3390.64435146,1416.31799163) button=1 dblclick=False inaxes=Axes(0.157585,0.1;0.70983x0.8)\n",
      "Add segment\n",
      "click MPL MouseEvent: xy=(418,187) xydata=(3317.42259414,2043.93305439) button=1 dblclick=False inaxes=Axes(0.157585,0.1;0.70983x0.8)\n",
      "Add segment\n",
      "click MPL MouseEvent: xy=(418,187) xydata=(3317.42259414,2043.93305439) button=1 dblclick=True inaxes=Axes(0.157585,0.1;0.70983x0.8)\n",
      "End Line\n",
      "click MPL MouseEvent: xy=(481,237) xydata=(3976.41841004,1520.92050209) button=1 dblclick=False inaxes=Axes(0.157585,0.1;0.70983x0.8)\n",
      "click MPL MouseEvent: xy=(481,237) xydata=(3976.41841004,1520.92050209) button=1 dblclick=True inaxes=Axes(0.157585,0.1;0.70983x0.8)\n",
      "Begin Line\n",
      "click MPL MouseEvent: xy=(473,237) xydata=(3892.73640167,1520.92050209) button=1 dblclick=False inaxes=Axes(0.157585,0.1;0.70983x0.8)\n",
      "Add segment\n",
      "click MPL MouseEvent: xy=(427,197) xydata=(3411.56485356,1939.33054393) button=1 dblclick=False inaxes=Axes(0.157585,0.1;0.70983x0.8)\n",
      "Add segment\n",
      "click MPL MouseEvent: xy=(333,237) xydata=(2428.30125523,1520.92050209) button=1 dblclick=False inaxes=Axes(0.157585,0.1;0.70983x0.8)\n",
      "Add segment\n",
      "click MPL MouseEvent: xy=(201,209) xydata=(1047.54811715,1813.80753138) button=1 dblclick=False inaxes=Axes(0.157585,0.1;0.70983x0.8)\n",
      "Add segment\n",
      "click MPL MouseEvent: xy=(200,282) xydata=(1037.08786611,1050.20920502) button=1 dblclick=False inaxes=Axes(0.157585,0.1;0.70983x0.8)\n",
      "Add segment\n",
      "click MPL MouseEvent: xy=(270,270) xydata=(1769.30543933,1175.73221757) button=1 dblclick=False inaxes=Axes(0.157585,0.1;0.70983x0.8)\n",
      "Add segment\n",
      "click MPL MouseEvent: xy=(270,270) xydata=(1769.30543933,1175.73221757) button=1 dblclick=True inaxes=Axes(0.157585,0.1;0.70983x0.8)\n",
      "End Line\n",
      "click MPL MouseEvent: xy=(421,283) xydata=(3348.80334728,1039.74895397) button=1 dblclick=False inaxes=Axes(0.157585,0.1;0.70983x0.8)\n",
      "click MPL MouseEvent: xy=(421,283) xydata=(3348.80334728,1039.74895397) button=1 dblclick=True inaxes=Axes(0.157585,0.1;0.70983x0.8)\n",
      "Begin Line\n",
      "click MPL MouseEvent: xy=(311,167) xydata=(2198.17573222,2253.13807531) button=1 dblclick=False inaxes=Axes(0.157585,0.1;0.70983x0.8)\n",
      "Add segment\n",
      "click MPL MouseEvent: xy=(216,235) xydata=(1204.45188285,1541.84100418) button=1 dblclick=False inaxes=Axes(0.157585,0.1;0.70983x0.8)\n",
      "Add segment\n",
      "click MPL MouseEvent: xy=(298,240) xydata=(2062.19246862,1489.53974895) button=1 dblclick=False inaxes=Axes(0.157585,0.1;0.70983x0.8)\n",
      "Add segment\n",
      "click MPL MouseEvent: xy=(424,187) xydata=(3380.18410042,2043.93305439) button=1 dblclick=False inaxes=Axes(0.157585,0.1;0.70983x0.8)\n",
      "Add segment\n",
      "click MPL MouseEvent: xy=(424,187) xydata=(3380.18410042,2043.93305439) button=1 dblclick=True inaxes=Axes(0.157585,0.1;0.70983x0.8)\n",
      "End Line\n",
      "click MPL MouseEvent: xy=(465,264) xydata=(3809.05439331,1238.49372385) button=1 dblclick=False inaxes=Axes(0.157585,0.1;0.70983x0.8)\n",
      "click MPL MouseEvent: xy=(465,264) xydata=(3809.05439331,1238.49372385) button=1 dblclick=True inaxes=Axes(0.157585,0.1;0.70983x0.8)\n",
      "Begin Line\n",
      "click MPL MouseEvent: xy=(454,255) xydata=(3693.9916318,1332.63598326) button=1 dblclick=False inaxes=Axes(0.157585,0.1;0.70983x0.8)\n",
      "Add segment\n",
      "click MPL MouseEvent: xy=(291,257) xydata=(1988.9707113,1311.71548117) button=1 dblclick=False inaxes=Axes(0.157585,0.1;0.70983x0.8)\n",
      "Add segment\n",
      "click MPL MouseEvent: xy=(197,215) xydata=(1005.70711297,1751.0460251) button=1 dblclick=False inaxes=Axes(0.157585,0.1;0.70983x0.8)\n",
      "Add segment\n",
      "click MPL MouseEvent: xy=(202,155) xydata=(1058.0083682,2378.66108787) button=1 dblclick=False inaxes=Axes(0.157585,0.1;0.70983x0.8)\n",
      "Add segment\n",
      "click MPL MouseEvent: xy=(304,204) xydata=(2124.9539749,1866.10878661) button=1 dblclick=False inaxes=Axes(0.157585,0.1;0.70983x0.8)\n",
      "Add segment\n",
      "click MPL MouseEvent: xy=(304,204) xydata=(2124.9539749,1866.10878661) button=1 dblclick=True inaxes=Axes(0.157585,0.1;0.70983x0.8)\n",
      "End Line\n",
      "click MPL MouseEvent: xy=(416,184) xydata=(3296.50209205,2075.31380753) button=1 dblclick=False inaxes=Axes(0.157585,0.1;0.70983x0.8)\n",
      "click MPL MouseEvent: xy=(459,225) xydata=(3746.29288703,1646.44351464) button=1 dblclick=False inaxes=Axes(0.157585,0.1;0.70983x0.8)\n",
      "click MPL MouseEvent: xy=(331,278) xydata=(2407.38075314,1092.05020921) button=1 dblclick=False inaxes=Axes(0.157585,0.1;0.70983x0.8)\n"
     ]
    }
   ],
   "source": [
    "%matplotlib qt\n",
    "from matplotlib import pyplot as plt\n",
    "\n",
    "class LineOverlay:\n",
    "    def __init__(self, im):\n",
    "        self.line,=im.axes.plot([0],[0],lw=2)\n",
    "        self.im = im\n",
    "        self.xs = []\n",
    "        self.ys = []\n",
    "        self.in_a_line=False\n",
    "        self.cid = im.figure.canvas.mpl_connect('button_press_event', self)\n",
    "\n",
    "    def __call__(self, event):\n",
    "        print('click', event)\n",
    "        if event.inaxes!=self.im.axes: \n",
    "            print('return')\n",
    "            return\n",
    "        if event.dblclick is True and self.in_a_line is False:\n",
    "            print('Begin Line')\n",
    "            self.in_a_line=True\n",
    "            self.xs=[event.xdata]\n",
    "            self.ys=[event.ydata]\n",
    "            return\n",
    "        if event.dblclick is True and self.in_a_line is True:\n",
    "            print('End Line')\n",
    "            self.in_a_line=False\n",
    "            self.xs.append(event.xdata)\n",
    "            self.ys.append(event.ydata)\n",
    "            self.line.set_data(self.xs, self.ys)\n",
    "            self.get_labels()\n",
    "            self.line.figure.canvas.draw()\n",
    "            return\n",
    "        if event.dblclick is False and self.in_a_line is True:\n",
    "            print('Add segment')\n",
    "            self.xs.append(event.xdata)\n",
    "            self.ys.append(event.ydata)\n",
    "            self.line.set_data(self.xs, self.ys)\n",
    "            self.line.figure.canvas.draw()\n",
    "            return\n",
    "    def get_labels(self):\n",
    "        d=self.im.get_array()\n",
    "        self.fringe_numbers=[]\n",
    "        for i in range(len(self.xs)-1):\n",
    "            x0, y0 = self.xs[i], self.ys[i] # These are in _pixel_ coordinates!!\n",
    "            x1, y1 = self.xs[i+1], self.ys[i+1]\n",
    "            length = int(np.hypot(x1-x0, y1-y0))\n",
    "            x, y = np.linspace(x0, x1, length), np.linspace(y0, y1, length)\n",
    "            # Extract the values along the line\n",
    "            zi = d[y.astype(np.int), x.astype(np.int)]\n",
    "            zi=[z for z in zi if z!=0]\n",
    "            self.fringe_numbers.extend(zi)\n",
    "    def check_labels(self):\n",
    "        fn=self.fringe_numbers\n",
    "        #remove adjacent duplicates\n",
    "        self.fringe_numbers=[n for i, n in enumerate(fn) if i==0 or n != fn[i-1]]\n",
    "        #check there are no otehr duplicates\n",
    "            \n",
    "fig = plt.figure()\n",
    "ax = fig.add_subplot(111)\n",
    "ax.set_title('Dbl click to start, click to add, dbl click to end')\n",
    "\n",
    "cmap = plt.cm.jet\n",
    "cmap.set_bad('w',0)\n",
    "im = ax.imshow(la, cmap=cmap)\n",
    "\n",
    "ax.set_xlim([0,la.shape[0]])\n",
    "ax.set_xlim([0,la.shape[1]])\n",
    "\n",
    "linebuilder = LineOverlay(im)\n",
    "\n",
    "plt.show()"
   ]
  },
  {
   "cell_type": "code",
   "execution_count": 91,
   "metadata": {
    "collapsed": false,
    "scrolled": true
   },
   "outputs": [
    {
     "ename": "AttributeError",
     "evalue": "'LineOverlay' object has no attribute 'fring_numbers'",
     "output_type": "error",
     "traceback": [
      "\u001b[1;31m---------------------------------------------------------------------------\u001b[0m",
      "\u001b[1;31mAttributeError\u001b[0m                            Traceback (most recent call last)",
      "\u001b[1;32m<ipython-input-91-750288ddb139>\u001b[0m in \u001b[0;36m<module>\u001b[1;34m()\u001b[0m\n\u001b[1;32m----> 1\u001b[1;33m \u001b[0mlinebuilder\u001b[0m\u001b[1;33m.\u001b[0m\u001b[0mget_labels\u001b[0m\u001b[1;33m(\u001b[0m\u001b[1;33m)\u001b[0m\u001b[1;33m\u001b[0m\u001b[0m\n\u001b[0m",
      "\u001b[1;32m<ipython-input-89-1ab28836b7c2>\u001b[0m in \u001b[0;36mget_labels\u001b[1;34m(self)\u001b[0m\n\u001b[0;32m     51\u001b[0m             \u001b[0mzi\u001b[0m \u001b[1;33m=\u001b[0m \u001b[0md\u001b[0m\u001b[1;33m[\u001b[0m\u001b[0my\u001b[0m\u001b[1;33m.\u001b[0m\u001b[0mastype\u001b[0m\u001b[1;33m(\u001b[0m\u001b[0mnp\u001b[0m\u001b[1;33m.\u001b[0m\u001b[0mint\u001b[0m\u001b[1;33m)\u001b[0m\u001b[1;33m,\u001b[0m \u001b[0mx\u001b[0m\u001b[1;33m.\u001b[0m\u001b[0mastype\u001b[0m\u001b[1;33m(\u001b[0m\u001b[0mnp\u001b[0m\u001b[1;33m.\u001b[0m\u001b[0mint\u001b[0m\u001b[1;33m)\u001b[0m\u001b[1;33m]\u001b[0m\u001b[1;33m\u001b[0m\u001b[0m\n\u001b[0;32m     52\u001b[0m             \u001b[0mzi\u001b[0m\u001b[1;33m=\u001b[0m\u001b[1;33m[\u001b[0m\u001b[0mz\u001b[0m \u001b[1;32mfor\u001b[0m \u001b[0mz\u001b[0m \u001b[1;32min\u001b[0m \u001b[0mzi\u001b[0m \u001b[1;32mif\u001b[0m \u001b[0mz\u001b[0m\u001b[1;33m!=\u001b[0m\u001b[1;36m0\u001b[0m\u001b[1;33m]\u001b[0m\u001b[1;33m\u001b[0m\u001b[0m\n\u001b[1;32m---> 53\u001b[1;33m             \u001b[0mself\u001b[0m\u001b[1;33m.\u001b[0m\u001b[0mfring_numbers\u001b[0m\u001b[1;33m.\u001b[0m\u001b[0mextend\u001b[0m\u001b[1;33m(\u001b[0m\u001b[0mzi\u001b[0m\u001b[1;33m)\u001b[0m\u001b[1;33m\u001b[0m\u001b[0m\n\u001b[0m\u001b[0;32m     54\u001b[0m \u001b[1;33m\u001b[0m\u001b[0m\n\u001b[0;32m     55\u001b[0m \u001b[0mfig\u001b[0m \u001b[1;33m=\u001b[0m \u001b[0mplt\u001b[0m\u001b[1;33m.\u001b[0m\u001b[0mfigure\u001b[0m\u001b[1;33m(\u001b[0m\u001b[1;33m)\u001b[0m\u001b[1;33m\u001b[0m\u001b[0m\n",
      "\u001b[1;31mAttributeError\u001b[0m: 'LineOverlay' object has no attribute 'fring_numbers'"
     ]
    }
   ],
   "source": [
    "linebuilder.get_labels()"
   ]
  },
  {
   "cell_type": "code",
   "execution_count": 79,
   "metadata": {
    "collapsed": false
   },
   "outputs": [
    {
     "data": {
      "text/plain": [
       "<module 'matplotlib.cm' from 'c:\\\\users\\\\jdavies\\\\anaconda3\\\\lib\\\\site-packages\\\\matplotlib\\\\cm.py'>"
      ]
     },
     "execution_count": 79,
     "metadata": {},
     "output_type": "execute_result"
    }
   ],
   "source": [
    "plt.cm"
   ]
  },
  {
   "cell_type": "code",
   "execution_count": null,
   "metadata": {
    "collapsed": true
   },
   "outputs": [],
   "source": []
  }
 ],
 "metadata": {
  "kernelspec": {
   "display_name": "Python 3",
   "language": "python",
   "name": "python3"
  },
  "language_info": {
   "codemirror_mode": {
    "name": "ipython",
    "version": 3
   },
   "file_extension": ".py",
   "mimetype": "text/x-python",
   "name": "python",
   "nbconvert_exporter": "python",
   "pygments_lexer": "ipython3",
   "version": "3.4.3"
  }
 },
 "nbformat": 4,
 "nbformat_minor": 0
}
