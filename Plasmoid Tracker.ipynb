{
 "cells": [
  {
   "cell_type": "code",
   "execution_count": 2,
   "metadata": {
    "collapsed": false
   },
   "outputs": [],
   "source": [
    "%matplotlib notebook\n",
    "import numpy as np\n",
    "import matplotlib.pyplot as plt"
   ]
  },
  {
   "cell_type": "code",
   "execution_count": 3,
   "metadata": {
    "collapsed": false
   },
   "outputs": [
    {
     "name": "stdout",
     "output_type": "stream",
     "text": [
      "/Users/jdhare/Google Drive/MAGPIE/data/2015/s1006_15 Reconnection C TS upstream flow\n"
     ]
    }
   ],
   "source": [
    "%cd \"~\\Google Drive\\MAGPIE\\data\\2015\\s1006_15 Reconnection C TS upstream flow\""
   ]
  },
  {
   "cell_type": "code",
   "execution_count": 8,
   "metadata": {
    "collapsed": false
   },
   "outputs": [
    {
     "ename": "FileNotFoundError",
     "evalue": "[Errno 2] No such file or directory: 's1006_15 532nm neL.txt'",
     "output_type": "error",
     "traceback": [
      "\u001b[0;31m---------------------------------------------------------------------------\u001b[0m",
      "\u001b[0;31mFileNotFoundError\u001b[0m                         Traceback (most recent call last)",
      "\u001b[0;32m<ipython-input-8-7f98720b65f4>\u001b[0m in \u001b[0;36m<module>\u001b[0;34m()\u001b[0m\n\u001b[0;32m----> 1\u001b[0;31m \u001b[0mgreen\u001b[0m\u001b[0;34m=\u001b[0m\u001b[0mnp\u001b[0m\u001b[0;34m.\u001b[0m\u001b[0mloadtxt\u001b[0m\u001b[0;34m(\u001b[0m\u001b[0mopen\u001b[0m\u001b[0;34m(\u001b[0m\u001b[0;34m's1006_15 532nm neL.txt'\u001b[0m\u001b[0;34m,\u001b[0m\u001b[0;34m\"r\"\u001b[0m\u001b[0;34m)\u001b[0m\u001b[0;34m,\u001b[0m\u001b[0mdelimiter\u001b[0m\u001b[0;34m=\u001b[0m\u001b[0;34m\",\"\u001b[0m\u001b[0;34m)\u001b[0m\u001b[0;34m\u001b[0m\u001b[0m\n\u001b[0m",
      "\u001b[0;31mFileNotFoundError\u001b[0m: [Errno 2] No such file or directory: 's1006_15 532nm neL.txt'"
     ]
    }
   ],
   "source": [
    "green=np.loadtxt(open('s1006_15 532nm neL.txt',\"r\"),delimiter=\",\")"
   ]
  },
  {
   "cell_type": "code",
   "execution_count": null,
   "metadata": {
    "collapsed": true
   },
   "outputs": [],
   "source": [
    "green=green-green.min()\n",
    "green=np.nan_to_num(green)"
   ]
  },
  {
   "cell_type": "code",
   "execution_count": null,
   "metadata": {
    "collapsed": false
   },
   "outputs": [],
   "source": [
    "fig, ax=plt.subplots(figsize=(12,8))\n",
    "im=ax.imshow(green, cmap='afmhot', interpolation='none', clim=[0,2e18])"
   ]
  },
  {
   "cell_type": "code",
   "execution_count": null,
   "metadata": {
    "collapsed": false
   },
   "outputs": [],
   "source": [
    "gx_min=600\n",
    "gx_max=4280\n",
    "green_lo=np.mean(green[1740:1780,gx_min:gx_max], axis=0)\n",
    "gscale=173\n",
    "gcentre=2328\n",
    "g_mm=np.linspace(gx_min-gcentre, gx_max-gcentre, gx_max-gx_min)/gscale"
   ]
  },
  {
   "cell_type": "code",
   "execution_count": null,
   "metadata": {
    "collapsed": false
   },
   "outputs": [],
   "source": [
    "fig, ax=plt.subplots(figsize=(12,8))\n",
    "im=ax.plot(g_mm,green_lo)"
   ]
  },
  {
   "cell_type": "code",
   "execution_count": null,
   "metadata": {
    "collapsed": true
   },
   "outputs": [],
   "source": [
    "bluer=np.loadtxt(open('s1006_15 355nm neL.txt',\"r\"),delimiter=\",\")\n",
    "bluer=np.nan_to_num(bluer)\n",
    "bluer=np.fliplr(bluer)\n",
    "bluer=bluer*2"
   ]
  },
  {
   "cell_type": "code",
   "execution_count": null,
   "metadata": {
    "collapsed": true
   },
   "outputs": [],
   "source": [
    "blue=bluer+3e17"
   ]
  },
  {
   "cell_type": "code",
   "execution_count": null,
   "metadata": {
    "collapsed": false
   },
   "outputs": [],
   "source": [
    "fig, ax=plt.subplots(figsize=(12,8))\n",
    "im=ax.imshow(blue, cmap='afmhot', interpolation='none', clim=[0,4e18])"
   ]
  },
  {
   "cell_type": "code",
   "execution_count": null,
   "metadata": {
    "collapsed": false
   },
   "outputs": [],
   "source": [
    "bx_min=418\n",
    "bx_max=3055\n",
    "blue_lo=np.mean(blue[1180:1220,bx_min:bx_max], axis=0)\n",
    "bscale=128\n",
    "bcentre=1610\n",
    "b_mm=np.linspace(bx_min-bcentre, bx_max-bcentre, bx_max-bx_min)/bscale"
   ]
  },
  {
   "cell_type": "code",
   "execution_count": null,
   "metadata": {
    "collapsed": false
   },
   "outputs": [],
   "source": [
    "fig, ax=plt.subplots(1,2,figsize=(12,8))\n",
    "gim=ax[0].imshow(np.transpose(green), cmap='afmhot', interpolation='none', clim=[0,4e18])\n",
    "bim=ax[1].imshow(np.transpose(blue), cmap='afmhot', interpolation='none', clim=[0,4e18])\n",
    "cbar_ax = fig.add_axes([0.92, 0.11, 0.05, 0.79])#l,b,w,h\n",
    "fig.colorbar(bim, cax=cbar_ax)"
   ]
  },
  {
   "cell_type": "code",
   "execution_count": null,
   "metadata": {
    "collapsed": false
   },
   "outputs": [],
   "source": [
    "green[893,2622]"
   ]
  },
  {
   "cell_type": "code",
   "execution_count": null,
   "metadata": {
    "collapsed": false
   },
   "outputs": [],
   "source": [
    "fig, ax=plt.subplots(figsize=(12,8))\n",
    "ax.plot(b_mm,blue_lo)\n",
    "ax.plot(g_mm,green_lo)"
   ]
  },
  {
   "cell_type": "code",
   "execution_count": null,
   "metadata": {
    "collapsed": false
   },
   "outputs": [],
   "source": [
    "bpos=4.4\n",
    "gpos=2.6\n",
    "V=(bpos-gpos)*1e-3/(20e-9)"
   ]
  },
  {
   "cell_type": "code",
   "execution_count": null,
   "metadata": {
    "collapsed": false
   },
   "outputs": [],
   "source": [
    "bluer.shape"
   ]
  },
  {
   "cell_type": "code",
   "execution_count": null,
   "metadata": {
    "collapsed": true
   },
   "outputs": [],
   "source": []
  }
 ],
 "metadata": {
  "kernelspec": {
   "display_name": "Python 3",
   "language": "python",
   "name": "python3"
  },
  "language_info": {
   "codemirror_mode": {
    "name": "ipython",
    "version": 3
   },
   "file_extension": ".py",
   "mimetype": "text/x-python",
   "name": "python",
   "nbconvert_exporter": "python",
   "pygments_lexer": "ipython3",
   "version": "3.5.0"
  }
 },
 "nbformat": 4,
 "nbformat_minor": 0
}
