{
 "cells": [
  {
   "cell_type": "code",
   "execution_count": 1,
   "metadata": {
    "collapsed": false
   },
   "outputs": [],
   "source": [
    "%matplotlib qt\n",
    "from scipy.ndimage.measurements import label, find_objects\n",
    "from scipy.interpolate import LinearNDInterpolator, CloughTocher2DInterpolator, griddata\n",
    "from scipy.spatial import Delaunay\n",
    "\n",
    "import numpy as np\n",
    "import matplotlib.pyplot as plt"
   ]
  },
  {
   "cell_type": "code",
   "execution_count": 2,
   "metadata": {
    "collapsed": false
   },
   "outputs": [
    {
     "name": "stdout",
     "output_type": "stream",
     "text": [
      "C:\\Users\\jdavies\\Google Drive\\MAGPIE\\data\\2015\\s1029_15 Reconnection C 32 Wire TS in layer 280 ns\n"
     ]
    }
   ],
   "source": [
    "cd \"C:\\Users\\jdavies\\Google Drive\\MAGPIE\\data\\2015\\s1029_15 Reconnection C 32 Wire TS in layer 280 ns\""
   ]
  },
  {
   "cell_type": "code",
   "execution_count": 3,
   "metadata": {
    "collapsed": false
   },
   "outputs": [],
   "source": [
    "class InterferogramInterpolator:\n",
    "    def __init__(self, fn):\n",
    "        i=plt.imread(fn)\n",
    "        self.ysize=i.shape[0]\n",
    "        self.xsize=i.shape[1]\n",
    "\n",
    "        i=i.sum(axis=2)\n",
    "        u=np.unique(i) #unique values in i - see what shade gray is, and also check for three colour\n",
    "        if len(u) is not 3:\n",
    "            print('Error: use only black, white and gray in interferogram')\n",
    "        mask_colour=u[1]#find the shade of gray\n",
    "        i=np.ma.masked_equal(i, mask_colour) #get the mask where gray is\n",
    "        self.mask=i.mask\n",
    "        i=(-i+4)/3 #this converts white to 0 and black to 1.\n",
    "        i=np.clip(i,a_min=0, a_max=2) #clip\n",
    "         # find fringes:\n",
    "        structure=np.ones((3,3)) #look forconnectivity of pixels in every direction\n",
    "        labeled_array, self.num_fringes = label(i, structure=structure)\n",
    "        \n",
    "        self.slices=find_objects(labeled_array)\n",
    "        ##next two lines set white to be a large negative number so we don't confuse it with a fringe\n",
    "        labeled_array[labeled_array==0]=-9999\n",
    "        labeled_array=labeled_array-1 #two steps necessary to convert one of the array labels to 0 so we can use 0 indexing\n",
    "        \n",
    "        self.labeled_array=labeled_array\n",
    "        \n",
    "        self.fig = plt.figure()\n",
    "        self.ax = self.fig.add_subplot(111)\n",
    "        self.ax.set_title('Dbl click to start, click to add, dbl click to end')\n",
    "\n",
    "        cmap = plt.cm.jet\n",
    "        cmap.set_under('w')\n",
    "        self.im = self.ax.imshow(labeled_array, cmap=cmap, interpolation='nearest')\n",
    "        self.ax.set_ylim([0,self.ysize])\n",
    "        self.ax.set_xlim([0,self.xsize])\n",
    "\n",
    "        self.fringe_dict={key: None for (key, value) in zip(range(self.num_fringes),range(self.num_fringes))}\n",
    "        self.line,=self.im.axes.plot([0],[0],lw=1)\n",
    "        self.fringe_indexes= self.im.get_array().copy()\n",
    "        self.fringe_labels=np.zeros_like(self.fringe_indexes)-10000\n",
    "        self.initialise_fringe_map()\n",
    "        self.xs = []\n",
    "        self.ys = []\n",
    "        self.in_a_line=False\n",
    "        self.cid = self.im.figure.canvas.mpl_connect('button_press_event', self)\n",
    "\n",
    "    def __call__(self, event):\n",
    "        ax=self.ax\n",
    "        print('click', event)\n",
    "        if event.inaxes!=ax: \n",
    "            print('return')\n",
    "            return\n",
    "        if event.dblclick is True and self.in_a_line is False:\n",
    "            print('Begin Line')\n",
    "            ax.set_title('Dbl click to start, click to add, dbl click to end')\n",
    "            self.in_a_line=True\n",
    "            self.xs=[event.xdata]\n",
    "            self.ys=[event.ydata]\n",
    "            return\n",
    "        if event.dblclick is True and self.in_a_line is True:\n",
    "            print('End Line')\n",
    "            self.in_a_line=False\n",
    "            self.xs.append(event.xdata)\n",
    "            self.ys.append(event.ydata)\n",
    "            self.line.set_data(self.xs, self.ys)\n",
    "            ax.set_ylim([0,self.ysize])\n",
    "            ax.set_xlim([0,self.xsize])\n",
    "            self.get_labels()\n",
    "            self.check_labels()\n",
    "            self.label_fringes()\n",
    "            self.update_fringe_map()\n",
    "            self.line.figure.canvas.draw()\n",
    "            return\n",
    "        if event.dblclick is False and self.in_a_line is True:\n",
    "            print('Add segment')\n",
    "            self.xs.append(event.xdata)\n",
    "            self.ys.append(event.ydata)\n",
    "            self.line.set_data(self.xs, self.ys)\n",
    "            ax.set_ylim([0,self.ysize])\n",
    "            ax.set_xlim([0,self.xsize])\n",
    "            self.line.figure.canvas.draw()\n",
    "            return\n",
    "        \n",
    "    def get_labels(self):\n",
    "        d=self.fringe_indexes\n",
    "        self.fringe_indexes_on_line=[]\n",
    "        for i in range(len(self.xs)-1):\n",
    "            x0, y0 = self.xs[i], self.ys[i] # These are in _pixel_ coordinates!!\n",
    "            x1, y1 = self.xs[i+1], self.ys[i+1]\n",
    "            length = int(np.hypot(x1-x0, y1-y0))\n",
    "            x, y = np.linspace(x0, x1, length), np.linspace(y0, y1, length)\n",
    "            # Extract the values along the line\n",
    "            zi = d[y.astype(np.int), x.astype(np.int)]\n",
    "            zi=[z for z in zi if z!=-10000]\n",
    "            self.fringe_indexes_on_line.extend(zi)\n",
    "            \n",
    "    def check_labels(self):        \n",
    "        fn=self.fringe_indexes_on_line\n",
    "        #remove adjacent duplicates\n",
    "        self.fringe_indexes_on_line=[n for i, n in enumerate(fn) if i==0 or n != fn[i-1]]\n",
    "        #check there are no other duplicates\n",
    "        if len(set(self.fringe_indexes_on_line)) is not len(self.fringe_indexes_on_line):\n",
    "            self.im.axes.set_title('Line recrosses fringes, try again')\n",
    "            self.im.axes.title.set_color('r')\n",
    "            self.line.figure.canvas.draw()\n",
    "            #self.fringe_indexes_on_line=[]\n",
    "            return\n",
    "        else:\n",
    "            return\n",
    "        \n",
    "    def label_fringes(self):\n",
    "        mode=+1\n",
    "        start_index=self.fringe_dict[self.fringe_indexes_on_line[0]]\n",
    "        if start_index is None:\n",
    "            start_index=0\n",
    "        for ind, f in enumerate(self.fringe_indexes_on_line):\n",
    "            self.fringe_dict[f]=start_index+ind*mode\n",
    "            \n",
    "    def update_fringe_map(self):\n",
    "        for f in range(self.num_fringes):\n",
    "            s=self.slices[f]\n",
    "            si=self.fringe_indexes[s]\n",
    "            sl=self.fringe_labels[s]\n",
    "            if self.fringe_dict[f] is not None:\n",
    "                sl[si==f]=self.fringe_dict[f]\n",
    "            else:\n",
    "                sl[si==f]=1\n",
    "        self.im.set_data(self.fringe_labels)\n",
    "        \n",
    "        mi=min(x for x in self.fringe_dict.values() if x is not None)\n",
    "        ma=max(x for x in self.fringe_dict.values() if x is not None)\n",
    "        self.im.set_clim([mi, ma])\n",
    "        self.im.figure.canvas.draw()\n",
    "    \n",
    "    def initialise_fringe_map(self):\n",
    "        for f in range(self.num_fringes):\n",
    "            s=self.slices[f]\n",
    "            si=self.fringe_indexes[s]\n",
    "            sl=self.fringe_labels[s]\n",
    "            sl[si==f]=1\n",
    "        self.im.set_data(self.fringe_labels)\n",
    "        self.im.set_clim([0, 1])\n",
    "        self.im.figure.canvas.draw()\n",
    "        \n",
    "    def output_points_values(self):\n",
    "        points=np.zeros((0,2))\n",
    "        values=np.zeros((0))\n",
    "        mi=min(x for x in self.fringe_dict.values() if x is not None)\n",
    "        ma=max(x for x in self.fringe_dict.values() if x is not None)\n",
    "        for fl in range(mi, ma+1):\n",
    "            p=np.transpose(np.where(self.fringe_labeled_only==fl))\n",
    "            points=np.append(points,p,axis=0)\n",
    "            v=np.zeros(p.shape[0])+fl\n",
    "            values=np.append(values, v)\n",
    "        self.labeled_points=points\n",
    "        self.labeled_values=values\n",
    "        return points, values\n",
    "        \n",
    "    def remove_unlabeled(self):\n",
    "        arr=np.zeros_like(self.fringe_labels)-10000\n",
    "        for f in range(self.num_fringes):\n",
    "            s=self.slices[f]\n",
    "            si=self.fringe_indexes[s]\n",
    "            sl=arr[s]\n",
    "            if self.fringe_dict[f] is not None:\n",
    "                sl[si==f]=self.fringe_dict[f]\n",
    "        self.fringe_labeled_only=arr\n",
    "        \n",
    "    def interpolate(self, method='CT'):\n",
    "        self.remove_unlabeled()\n",
    "        self.points, self.values=self.output_points_values()\n",
    "        grid_x, grid_y = np.mgrid[0:self.fringe_labeled_only.shape[0], 0:self.fringe_labeled_only.shape[1]]\n",
    "        \n",
    "        if method is 'CT':\n",
    "            self.CT=CloughTocher2DInterpolator(self.points, self.values, tol=1e-8, maxiter=1000)\n",
    "            self.d=self.CT(grid_x.ravel(), grid_y.ravel())\n",
    "        if method is 'Linear':\n",
    "            self.li=LinearNDInterpolator(self.points, self.values)\n",
    "            self.d=self.li(grid_x.ravel(), grid_y.ravel())\n",
    "            \n",
    "        dr=self.d.reshape(grid_x.shape[0],grid_x.shape[1])\n",
    "        drm=np.ma.asarray(dr)\n",
    "        drm.mask=self.mask\n",
    "        self.phase=drm"
   ]
  },
  {
   "cell_type": "code",
   "execution_count": 4,
   "metadata": {
    "collapsed": false
   },
   "outputs": [
    {
     "name": "stdout",
     "output_type": "stream",
     "text": [
      "click MPL MouseEvent: xy=(116,232) xydata=(344.903225806,1516.93548387) button=1 dblclick=False inaxes=Axes(0.125,0.154114;0.775x0.691771)\n",
      "click MPL MouseEvent: xy=(116,232) xydata=(344.903225806,1516.93548387) button=1 dblclick=True inaxes=Axes(0.125,0.154114;0.775x0.691771)\n",
      "Begin Line\n",
      "click MPL MouseEvent: xy=(535,238) xydata=(4359.19354839,1574.41935484) button=1 dblclick=False inaxes=Axes(0.125,0.154114;0.775x0.691771)\n",
      "Add segment\n",
      "click MPL MouseEvent: xy=(535,238) xydata=(4359.19354839,1574.41935484) button=1 dblclick=True inaxes=Axes(0.125,0.154114;0.775x0.691771)\n",
      "End Line\n"
     ]
    }
   ],
   "source": [
    "fn='s1029_15 532 plasma.png'\n",
    "IP=InterferogramInterpolator(fn)"
   ]
  },
  {
   "cell_type": "code",
   "execution_count": 5,
   "metadata": {
    "collapsed": false
   },
   "outputs": [],
   "source": [
    "IP.interpolate(method='Linear')"
   ]
  },
  {
   "cell_type": "code",
   "execution_count": 44,
   "metadata": {
    "collapsed": false,
    "scrolled": true
   },
   "outputs": [],
   "source": [
    "fn='s1029_15 532 vacuum.png'\n",
    "IV=InterferogramInterpolator(fn)"
   ]
  },
  {
   "cell_type": "code",
   "execution_count": 46,
   "metadata": {
    "collapsed": false
   },
   "outputs": [],
   "source": [
    "IV.interpolate(method='Linear')"
   ]
  },
  {
   "cell_type": "code",
   "execution_count": 81,
   "metadata": {
    "collapsed": false
   },
   "outputs": [],
   "source": [
    "from scipy.spatial import Delaunay\n",
    "\n",
    "tr=Delaunay(IP.points)\n",
    "fig = plt.figure()\n",
    "ax = fig.add_subplot(111)\n",
    "\n",
    "ax.triplot(IP.points[:,1], IP.points[:,0], tr.simplices.copy())\n",
    "#ax.plot(IP.points[:,1], IP.points[:,0], 'o')\n",
    "ax.invert_yaxis()\n",
    "im = ax.imshow(IP.fringe_labeled_only, clim=[-100,100],interpolation='nearest')"
   ]
  },
  {
   "cell_type": "markdown",
   "metadata": {},
   "source": [
    "## Code to remove flat triangles"
   ]
  },
  {
   "cell_type": "code",
   "execution_count": 36,
   "metadata": {
    "collapsed": false
   },
   "outputs": [],
   "source": [
    "from scipy.spatial import Delaunay\n",
    "tr=Delaunay(IP.points) #initial Delaunay triangulation\n",
    "values=IP.fringe_labeled_only #short hand"
   ]
  },
  {
   "cell_type": "code",
   "execution_count": 33,
   "metadata": {
    "collapsed": false
   },
   "outputs": [],
   "source": [
    "flat_tri=[]\n",
    "for i,s in enumerate(tr.simplices):\n",
    "    #if the length of the set is 1, all vertices have the same value and the triangle is flat. \n",
    "    #We just want the triangle index\n",
    "    v=[values[pp[0],pp[1]] for pp in tr.points[s]]\n",
    "    if v[1:] == v[:-1]:\n",
    "        flat_tri.append(True)\n",
    "    else:\n",
    "        flat_tri.append(False)"
   ]
  },
  {
   "cell_type": "markdown",
   "metadata": {},
   "source": [
    "## Code using edge flipping:"
   ]
  },
  {
   "cell_type": "code",
   "execution_count": 41,
   "metadata": {
    "collapsed": false
   },
   "outputs": [],
   "source": [
    "for j, ft in enumerate(flat_tri[:10000]):\n",
    "    if ft is True:\n",
    "        ne=tr.neighbors[j]\n",
    "        for n in ne:\n",
    "            if flat_tri[n] is False:\n",
    "                sim0=tr.simplices[i]\n",
    "                sim1=tr.simplices[n]\n",
    "                for i,p in enumerate(sim0):\n",
    "                    if p not in sim1:\n",
    "                        p0=p\n",
    "                        p0i=i\n",
    "                for i,p in enumerate(sim1):\n",
    "                    if p not in sim0:\n",
    "                        p1=p\n",
    "                        p1i=i\n",
    "                sim0[p0i]=p1\n",
    "                sim1[p1i]=p0       "
   ]
  },
  {
   "cell_type": "code",
   "execution_count": 42,
   "metadata": {
    "collapsed": false
   },
   "outputs": [],
   "source": [
    "fig = plt.figure()\n",
    "ax = fig.add_subplot(111)\n",
    "\n",
    "ax.triplot(IP.points[:,1], IP.points[:,0], tr.simplices.copy())\n",
    "#ax.plot(IP.points[:,1], IP.points[:,0], 'o')\n",
    "ax.invert_yaxis()\n",
    "im = ax.imshow(IP.fringe_labeled_only, clim=[-100,100],interpolation='nearest')"
   ]
  },
  {
   "cell_type": "markdown",
   "metadata": {},
   "source": [
    "## Code intended to remove flat triangles using critical points: SLOW!"
   ]
  },
  {
   "cell_type": "code",
   "execution_count": 51,
   "metadata": {
    "collapsed": false
   },
   "outputs": [],
   "source": [
    "def point_distance(p0,p1):\n",
    "    return np.sqrt((p0[0]-p1[0])**2+(p0[1]-p1[1])**2)#np.linalg.norm(np.asarray(p0)-np.asarray(p1))\n",
    "\n",
    "#if points don't touch in a NESW sense, they are no adjacent.\n",
    "#for a flat triangle form on a close packed contour there is only one pair of non adjacent points\n",
    "#so we get a speed up by sequentially considering each pair\n",
    "def non_adjacent_points(p):\n",
    "    if point_distance(p[0],p[1])>1:\n",
    "        return p[0], p[1]\n",
    "    if point_distance(p[1],p[2])>1:\n",
    "        return p[1], p[2]\n",
    "    if point_distance(p[2],p[0])>1:\n",
    "        return p[2], p[0]\n",
    "    else:\n",
    "        return None\n",
    "    \n",
    "def search_in_direction_first_n_not(point, array, direction, n, n_not):\n",
    "    '''\n",
    "    Searches for the nearest n points to a specified point in an array\n",
    "    Valid points are not equal to a given number\n",
    "    This is for searching a sparse contour map for non-'background' elements\n",
    "    '''\n",
    "    n_found=[]\n",
    "    c=point\n",
    "    c0max=array.shape[0]\n",
    "    c1max=array.shape[1]\n",
    "    while len(n_found)<n:\n",
    "        c=(c[0]+direction[0], c[1]+direction[1])\n",
    "        if c[0]>=c0max or c[0]<0:\n",
    "            return n_found\n",
    "        if c[1]>=c1max or c[1]<0:\n",
    "            return n_found\n",
    "        if array[c]!=n_not:\n",
    "            n_found.append(c)\n",
    "    return n_found\n",
    "\n",
    "def search_vertical(point, array, n, nth_not):\n",
    "    line=array[:,point[1]]\n",
    "    n_found=[]\n",
    "    valid=np.where(line!=nth_not)[0]\n",
    "    while len(n_found)<n:\n",
    "        n_found.append((np.where()[0],point[1]))\n",
    "    (find_nth_index_not(pp, line, 1, -10000), point[1])\n",
    "\n",
    "def parabolic_interpolation(p0,p1,p2, pc, array):\n",
    "    #parabolic interpolation using three points.\n",
    "    h0=values[p0]\n",
    "    h1=values[p1]\n",
    "    h2=values[p2]\n",
    "\n",
    "    degenerate=h0 is h1 and h1 is h2 #can't interpolate if all points are on the same contour\n",
    "\n",
    "    if not degenerate:\n",
    "        sc=point_distance(pc, p0)\n",
    "        s0=0 #by definition\n",
    "        s1=point_distance(p1, p0)\n",
    "        s2=point_distance(p2, p0)\n",
    "        term0=h0*((sc-s1)/(s0-s1))*((sc-s2)/(s0-s2))\n",
    "        term1=h1*((sc-s0)/(s1-s0))*((sc-s2)/(s1-s2))\n",
    "        term2=h2*((sc-s0)/(s2-s0))*((sc-s1)/(s2-s1))\n",
    "        hc=term0+term1+term2\n",
    "        return hc\n",
    "    if degenerate:\n",
    "        return None\n",
    "\n",
    "directions=[(1,0),(1,1),(0,1),(-1,1)]\n",
    "\n",
    "def estimate_new_point_value(point, value):\n",
    "    hcs=[]\n",
    "    for d in directions:\n",
    "        rev_d=(-d[0],-d[1])\n",
    "        fwd=search_in_direction_first_n_not(point, values, d, 2, n_not=-10000)\n",
    "        rev=search_in_direction_first_n_not(point, values, rev_d, 2, n_not=-10000)\n",
    "        if len(fwd) is 2 and len(rev)>=1:\n",
    "            f_hc=parabolic_interpolation(fwd[1],fwd[0],rev[0], point,values)\n",
    "            if f_hc is not None:\n",
    "                hcs.append(f_hc)\n",
    "        if len(rev) is 2 and len(fwd)>=1:\n",
    "            r_hc=parabolic_interpolation(fwd[0],rev[1],rev[0],point,values)\n",
    "            if r_hc is not None:\n",
    "                hcs.append(r_hc)\n",
    "    if len(hcs)>0:\n",
    "        return np.mean(hcs)\n",
    "    else:\n",
    "        return None"
   ]
  },
  {
   "cell_type": "code",
   "execution_count": 29,
   "metadata": {
    "collapsed": false
   },
   "outputs": [],
   "source": [
    "BT_edge_points=[]\n",
    "#find the Bridge/Tunnel edges (B/T) edges of the flat triangles\n",
    "#these are the edges which join non-adjacent points\n",
    "flat_triangle_points=tr.points[tr.simplices[flat_tri]]\n",
    "for ft in flat_triangle_points:\n",
    "    edge=non_adjacent_points(ft)\n",
    "    if edge is not None:\n",
    "        BT_edge_points.append(edge)"
   ]
  },
  {
   "cell_type": "code",
   "execution_count": 30,
   "metadata": {
    "collapsed": false
   },
   "outputs": [],
   "source": [
    "new_p=[]\n",
    "for bte in BT_edge_points:\n",
    "    #the critical points to be added are midpoints of the B/T edges\n",
    "    n_p=(round((bte[1][0]+bte[0][0])/2),round((bte[1][1]+bte[0][1])/2))\n",
    "    new_p.append(n_p)"
   ]
  },
  {
   "cell_type": "code",
   "execution_count": 52,
   "metadata": {
    "collapsed": false
   },
   "outputs": [],
   "source": [
    "hcs=[estimate_new_point_value(p, values) for p in new_p[:1000]]"
   ]
  },
  {
   "cell_type": "code",
   "execution_count": 299,
   "metadata": {
    "collapsed": false
   },
   "outputs": [],
   "source": [
    "def search_in_direction_first_n_not(point, array, direction, n, n_not):\n",
    "    n_found=[]\n",
    "    c=point\n",
    "    c0max=array.shape[0]\n",
    "    c1max=array.shape[1]\n",
    "    while len(n_found)<n:\n",
    "        c=(c[0]+direction[0], c[1]+direction[1])\n",
    "        if c[0]>=c0max or c[0]<0:\n",
    "            return n_found\n",
    "        if c[1]>=c1max or c[1]<0:\n",
    "            return n_found\n",
    "        if array[c]!=n_not:\n",
    "            n_found.append(c)\n",
    "    return n_found\n",
    "            "
   ]
  },
  {
   "cell_type": "code",
   "execution_count": 315,
   "metadata": {
    "collapsed": false
   },
   "outputs": [
    {
     "data": {
      "text/plain": [
       "[59.714458560193577,\n",
       " 59.744958949096755,\n",
       " 60.055746258421784,\n",
       " 59.967670627245099]"
      ]
     },
     "execution_count": 315,
     "metadata": {},
     "output_type": "execute_result"
    }
   ],
   "source": [
    "hcs\n",
    "point=new_p[5000]\n",
    "hcs=[]\n",
    "\n",
    "##vertical sweep to smaller y values\n",
    "line=values[:,point[1]] #identify a line along which to search, here a vertical line\n",
    "pp=point[0]\n",
    "#find three points for parabolic interpolation\n",
    "p2=(find_nth_index_not(pp, line, 1, -10000), point[1]) #search up the array\n",
    "p1=(find_nth_index_not(pp, line, -1, -10000), point[1]) #search up the array\n",
    "p0=(find_nth_index_not(pp, line, -2, -10000), point[1]) #search up the array\n",
    "hcs.append(parabolic_interpolation(p0,p1,p2,values))\n",
    "\n",
    "##vertical sweep to larger y values\n",
    "#find thre points for parabolic interpolation\n",
    "p2=(find_nth_index_not(pp, line, -1, -10000), point[1]) #search up the array\n",
    "p1=(find_nth_index_not(pp, line, 1, -10000), point[1]) #search up the array\n",
    "p0=(find_nth_index_not(pp, line, 2, -10000), point[1]) #search up the array\n",
    "hcs.append(parabolic_interpolation(p0,p1,p2,values))\n",
    "\n",
    "##horizontal sweep to smaller x values\n",
    "line=values[point[0],:] #identify a line along which to search, here a vertical line\n",
    "pp=point[1]\n",
    "#find three points for parabolic interpolation\n",
    "p2=(point[0], find_nth_index_not(pp, line, 1, -10000)) #search up the array\n",
    "p1=(point[0],find_nth_index_not(pp, line, -1, -10000)) #search up the array\n",
    "p0=(point[0],find_nth_index_not(pp, line, -2, -10000)) #search up the array\n",
    "hcs.append(parabolic_interpolation(p0,p1,p2,values))\n",
    "\n",
    "##vertical sweep to larger y values\n",
    "#find thre points for parabolic interpolation\n",
    "p2=(point[0],find_nth_index_not(pp, line, -1, -10000)) #search up the array\n",
    "p1=(point[0],find_nth_index_not(pp, line, 1, -10000)) #search up the array\n",
    "p0=(point[0],find_nth_index_not(pp, line, 2, -10000)) #search up the array\n",
    "hcs.append(parabolic_interpolation(p0,p1,p2,values))"
   ]
  },
  {
   "cell_type": "code",
   "execution_count": 281,
   "metadata": {
    "collapsed": false
   },
   "outputs": [
    {
     "data": {
      "text/plain": [
       "(1, 1, 1, 1)"
      ]
     },
     "execution_count": 281,
     "metadata": {},
     "output_type": "execute_result"
    }
   ],
   "source": [
    "(1,1)+(1,1)"
   ]
  },
  {
   "cell_type": "markdown",
   "metadata": {
    "collapsed": false
   },
   "source": [
    "fig = plt.figure()\n",
    "ax = fig.add_subplot(111)\n",
    "cmap = plt.cm.jet\n",
    "cmap.set_under('w')\n",
    "\n",
    "im = ax.imshow(IP.phase, cmap=cmap,interpolation='nearest')"
   ]
  },
  {
   "cell_type": "code",
   "execution_count": 30,
   "metadata": {
    "collapsed": false
   },
   "outputs": [
    {
     "data": {
      "text/plain": [
       "array([[     3,      2,     18],\n",
       "       [    15,      3,     18],\n",
       "       [134443, 134445, 134456],\n",
       "       ..., \n",
       "       [ 55347,  53242,  55348],\n",
       "       [ 23279,  23280,  23282],\n",
       "       [ 23277,  23279,  23282]], dtype=int32)"
      ]
     },
     "execution_count": 30,
     "metadata": {},
     "output_type": "execute_result"
    }
   ],
   "source": [
    "tr.simplices.copy()"
   ]
  },
  {
   "cell_type": "code",
   "execution_count": 32,
   "metadata": {
    "collapsed": false
   },
   "outputs": [],
   "source": [
    "from matplotlib import tri\n",
    "t=tri.Triangulation(IP.points[:,1], IP.points[:,0])"
   ]
  },
  {
   "cell_type": "code",
   "execution_count": 1,
   "metadata": {
    "collapsed": false
   },
   "outputs": [
    {
     "ename": "NameError",
     "evalue": "name 'plt' is not defined",
     "output_type": "error",
     "traceback": [
      "\u001b[1;31m---------------------------------------------------------------------------\u001b[0m",
      "\u001b[1;31mNameError\u001b[0m                                 Traceback (most recent call last)",
      "\u001b[1;32m<ipython-input-1-35568fa385e0>\u001b[0m in \u001b[0;36m<module>\u001b[1;34m()\u001b[0m\n\u001b[1;32m----> 1\u001b[1;33m \u001b[0mfig\u001b[0m \u001b[1;33m=\u001b[0m \u001b[0mplt\u001b[0m\u001b[1;33m.\u001b[0m\u001b[0mfigure\u001b[0m\u001b[1;33m(\u001b[0m\u001b[1;33m)\u001b[0m\u001b[1;33m\u001b[0m\u001b[0m\n\u001b[0m\u001b[0;32m      2\u001b[0m \u001b[0max\u001b[0m \u001b[1;33m=\u001b[0m \u001b[0mfig\u001b[0m\u001b[1;33m.\u001b[0m\u001b[0madd_subplot\u001b[0m\u001b[1;33m(\u001b[0m\u001b[1;36m111\u001b[0m\u001b[1;33m)\u001b[0m\u001b[1;33m\u001b[0m\u001b[0m\n\u001b[0;32m      3\u001b[0m \u001b[1;33m\u001b[0m\u001b[0m\n\u001b[0;32m      4\u001b[0m \u001b[0max\u001b[0m\u001b[1;33m.\u001b[0m\u001b[0mtriplot\u001b[0m\u001b[1;33m(\u001b[0m\u001b[0mt\u001b[0m\u001b[1;33m.\u001b[0m\u001b[0mx\u001b[0m\u001b[1;33m,\u001b[0m\u001b[0mt\u001b[0m\u001b[1;33m.\u001b[0m\u001b[0my\u001b[0m\u001b[1;33m,\u001b[0m\u001b[0mt\u001b[0m\u001b[1;33m.\u001b[0m\u001b[0mtriangles\u001b[0m\u001b[1;33m)\u001b[0m\u001b[1;33m\u001b[0m\u001b[0m\n\u001b[0;32m      5\u001b[0m \u001b[0max\u001b[0m\u001b[1;33m.\u001b[0m\u001b[0mplot\u001b[0m\u001b[1;33m(\u001b[0m\u001b[0mt\u001b[0m\u001b[1;33m.\u001b[0m\u001b[0mx\u001b[0m\u001b[1;33m,\u001b[0m \u001b[0mt\u001b[0m\u001b[1;33m.\u001b[0m\u001b[0my\u001b[0m\u001b[1;33m,\u001b[0m \u001b[1;34m'o'\u001b[0m\u001b[1;33m)\u001b[0m\u001b[1;33m\u001b[0m\u001b[0m\n",
      "\u001b[1;31mNameError\u001b[0m: name 'plt' is not defined"
     ]
    }
   ],
   "source": [
    "fig = plt.figure()\n",
    "ax = fig.add_subplot(111)\n",
    "\n",
    "ax.triplot(t.x,t.y,t.triangles)\n",
    "ax.plot(t.x, t.y, 'o')\n",
    "ax.invert_yaxis()\n"
   ]
  },
  {
   "cell_type": "code",
   "execution_count": 15,
   "metadata": {
    "collapsed": false
   },
   "outputs": [
    {
     "data": {
      "text/plain": [
       "[<matplotlib.lines.Line2D at 0xd4599b0>]"
      ]
     },
     "execution_count": 15,
     "metadata": {},
     "output_type": "execute_result"
    }
   ],
   "source": [
    "fig = plt.figure()\n",
    "ax = fig.add_subplot(111)\n",
    "ax.plot(d[1740,:])"
   ]
  },
  {
   "cell_type": "code",
   "execution_count": 12,
   "metadata": {
    "collapsed": false
   },
   "outputs": [],
   "source": [
    "grid_x, grid_y = np.mgrid[0:IP.fringe_labeled_only.shape[0], 0:IP.fringe_labeled_only.shape[1]]\n",
    "d=griddata(IP.points, IP.values, (grid_x,grid_y))"
   ]
  },
  {
   "cell_type": "code",
   "execution_count": 14,
   "metadata": {
    "collapsed": true
   },
   "outputs": [],
   "source": [
    "fig = plt.figure()\n",
    "ax = fig.add_subplot(111)\n",
    "cmap = plt.cm.jet\n",
    "cmap.set_under('w')\n",
    "\n",
    "im = ax.imshow(d, cmap=cmap,interpolation='nearest')"
   ]
  },
  {
   "cell_type": "code",
   "execution_count": 9,
   "metadata": {
    "collapsed": false
   },
   "outputs": [
    {
     "data": {
      "text/plain": [
       "array([   0,    0,    0, ..., 3167, 3167, 3167])"
      ]
     },
     "execution_count": 9,
     "metadata": {},
     "output_type": "execute_result"
    }
   ],
   "source": [
    "grid_x.ravel()"
   ]
  },
  {
   "cell_type": "code",
   "execution_count": 10,
   "metadata": {
    "collapsed": true
   },
   "outputs": [],
   "source": [
    "?griddata"
   ]
  },
  {
   "cell_type": "code",
   "execution_count": 124,
   "metadata": {
    "collapsed": false
   },
   "outputs": [],
   "source": [
    "t=plt.imread('s1029_15 532 plasma.png')\n",
    "t=t.sum(axis=2)\n",
    "mask_colour=np.unique(t)[1]#find the shade of gray\n",
    "tm=np.ma.masked_equal(t, mask_colour) #get the mask\n",
    "tt=(-tm+4)/3\n",
    "th=np.clip(tt,a_min=0, a_max=2)"
   ]
  },
  {
   "cell_type": "code",
   "execution_count": 125,
   "metadata": {
    "collapsed": false
   },
   "outputs": [],
   "source": [
    "structure=np.ones((3,3))\n",
    "labeled_array, num_fringes = label(th, structure=structure)\n",
    "slices=find_objects(labeled_array)\n",
    "labeled_array[labeled_array==0]=-9999\n",
    "labeled_array=labeled_array-1\n",
    "#la=np.ma.masked_equal(labeled_array, 0)"
   ]
  },
  {
   "cell_type": "code",
   "execution_count": 276,
   "metadata": {
    "collapsed": false,
    "scrolled": false
   },
   "outputs": [
    {
     "name": "stdout",
     "output_type": "stream",
     "text": [
      "click MPL MouseEvent: xy=(199,227) xydata=(439.516129032,1645.16129032) button=1 dblclick=False inaxes=Axes(0.125,0.154114;0.775x0.691771)\n",
      "click MPL MouseEvent: xy=(199,227) xydata=(439.516129032,1645.16129032) button=1 dblclick=True inaxes=Axes(0.125,0.154114;0.775x0.691771)\n",
      "Begin Line\n",
      "click MPL MouseEvent: xy=(522,231) xydata=(4346.77419355,1596.77419355) button=1 dblclick=False inaxes=Axes(0.125,0.154114;0.775x0.691771)\n",
      "Add segment\n",
      "click MPL MouseEvent: xy=(522,231) xydata=(4405.28870293,1583.68200837) button=1 dblclick=True inaxes=Axes(0.157585,0.1;0.70983x0.8)\n",
      "End Line\n"
     ]
    }
   ],
   "source": [
    "class FringeNumberer:\n",
    "    def __init__(self, im, slices):\n",
    "        self.num_fringes=len(slices)\n",
    "        self.fringe_dict={key: None for (key, value) in zip(range(num_fringes),range(num_fringes))}\n",
    "        self.line,=im.axes.plot([0],[0],lw=1)\n",
    "        self.im = im\n",
    "        self.fringe_indexes= im.get_array().copy()\n",
    "        self.fringe_labels=np.zeros_like(self.fringe_indexes)-10000\n",
    "        self.initialise_fringe_map()\n",
    "        self.xs = []\n",
    "        self.ys = []\n",
    "        self.in_a_line=False\n",
    "        self.cid = im.figure.canvas.mpl_connect('button_press_event', self)\n",
    "\n",
    "    def __call__(self, event):\n",
    "        ax=self.im.axes\n",
    "        print('click', event)\n",
    "        if event.inaxes!=ax: \n",
    "            print('return')\n",
    "            return\n",
    "        if event.dblclick is True and self.in_a_line is False:\n",
    "            print('Begin Line')\n",
    "            ax.set_title('Dbl click to start, click to add, dbl click to end')\n",
    "            self.in_a_line=True\n",
    "            self.xs=[event.xdata]\n",
    "            self.ys=[event.ydata]\n",
    "            return\n",
    "        if event.dblclick is True and self.in_a_line is True:\n",
    "            print('End Line')\n",
    "            self.in_a_line=False\n",
    "            self.xs.append(event.xdata)\n",
    "            self.ys.append(event.ydata)\n",
    "            self.line.set_data(self.xs, self.ys)\n",
    "            ax.set_xlim([0,la.shape[0]])\n",
    "            ax.set_xlim([0,la.shape[1]])\n",
    "            self.get_labels()\n",
    "            self.check_labels()\n",
    "            self.label_fringes()\n",
    "            self.update_fringe_map()\n",
    "            self.line.figure.canvas.draw()\n",
    "            return\n",
    "        if event.dblclick is False and self.in_a_line is True:\n",
    "            print('Add segment')\n",
    "            self.xs.append(event.xdata)\n",
    "            self.ys.append(event.ydata)\n",
    "            self.line.set_data(self.xs, self.ys)\n",
    "            ax.set_xlim([0,la.shape[0]])\n",
    "            ax.set_xlim([0,la.shape[1]])\n",
    "            self.line.figure.canvas.draw()\n",
    "            return\n",
    "        \n",
    "    def get_labels(self):\n",
    "        d=self.fringe_indexes\n",
    "        self.fringe_indexes_on_line=[]\n",
    "        for i in range(len(self.xs)-1):\n",
    "            x0, y0 = self.xs[i], self.ys[i] # These are in _pixel_ coordinates!!\n",
    "            x1, y1 = self.xs[i+1], self.ys[i+1]\n",
    "            length = int(np.hypot(x1-x0, y1-y0))\n",
    "            x, y = np.linspace(x0, x1, length), np.linspace(y0, y1, length)\n",
    "            # Extract the values along the line\n",
    "            zi = d[y.astype(np.int), x.astype(np.int)]\n",
    "            zi=[z for z in zi if z!=-10000]\n",
    "            self.fringe_indexes_on_line.extend(zi)\n",
    "            \n",
    "    def check_labels(self):        \n",
    "        fn=self.fringe_indexes_on_line\n",
    "        #remove adjacent duplicates\n",
    "        self.fringe_indexes_on_line=[n for i, n in enumerate(fn) if i==0 or n != fn[i-1]]\n",
    "        #check there are no other duplicates\n",
    "        if len(set(self.fringe_indexes_on_line)) is not len(self.fringe_indexes_on_line):\n",
    "            self.im.axes.set_title('Line recrosses fringes, try again')\n",
    "            self.im.axes.title.set_color('r')\n",
    "            self.line.figure.canvas.draw()\n",
    "            #self.fringe_indexes_on_line=[]\n",
    "            return\n",
    "        else:\n",
    "            return\n",
    "        \n",
    "    def label_fringes(self):\n",
    "        mode=+1\n",
    "        start_index=self.fringe_dict[self.fringe_indexes_on_line[0]]\n",
    "        if start_index is None:\n",
    "            start_index=0\n",
    "        for ind, f in enumerate(self.fringe_indexes_on_line):\n",
    "            self.fringe_dict[f]=start_index+ind*mode\n",
    "            \n",
    "    def update_fringe_map(self):\n",
    "        for f in range(self.num_fringes):\n",
    "            s=slices[f]\n",
    "            si=self.fringe_indexes[s]\n",
    "            sl=self.fringe_labels[s]\n",
    "            if self.fringe_dict[f] is not None:\n",
    "                sl[si==f]=self.fringe_dict[f]\n",
    "            else:\n",
    "                sl[si==f]=1\n",
    "        self.im.set_data(self.fringe_labels)\n",
    "        \n",
    "        mi=min(x for x in self.fringe_dict.values() if x is not None)\n",
    "        ma=max(x for x in self.fringe_dict.values() if x is not None)\n",
    "        self.im.set_clim([mi, ma])\n",
    "        self.im.figure.canvas.draw()\n",
    "    \n",
    "    def initialise_fringe_map(self):\n",
    "        for f in range(self.num_fringes):\n",
    "            s=slices[f]\n",
    "            si=self.fringe_indexes[s]\n",
    "            sl=self.fringe_labels[s]\n",
    "            sl[si==f]=1\n",
    "        self.im.set_data(self.fringe_labels)\n",
    "        self.im.set_clim([0, 1])\n",
    "        self.im.figure.canvas.draw()\n",
    "        \n",
    "    def output_points_values(self):\n",
    "        points=np.zeros((0,2))\n",
    "        values=np.zeros((0))\n",
    "        mi=min(x for x in self.fringe_dict.values() if x is not None)\n",
    "        ma=max(x for x in self.fringe_dict.values() if x is not None)\n",
    "        for fl in range(mi, ma+1):\n",
    "            p=np.transpose(np.where(self.fringe_labelled_only==fl))\n",
    "            points=np.append(points,p,axis=0)\n",
    "            v=np.zeros(p.shape[0])+fl\n",
    "            values=np.append(values, v)\n",
    "        self.labeled_points=points\n",
    "        self.labeled_values=values\n",
    "        return points, values\n",
    "        \n",
    "    def remove_unlabelled(self):\n",
    "        arr=np.zeros_like(self.fringe_labels)-10000\n",
    "        for f in range(self.num_fringes):\n",
    "            s=slices[f]\n",
    "            si=self.fringe_indexes[s]\n",
    "            sl=arr[s]\n",
    "            if self.fringe_dict[f] is not None:\n",
    "                sl[si==f]=self.fringe_dict[f]\n",
    "        self.fringe_labelled_only=arr        \n",
    "            \n",
    "fig = plt.figure()\n",
    "ax = fig.add_subplot(111)\n",
    "ax.set_title('Dbl click to start, click to add, dbl click to end')\n",
    "\n",
    "cmap = plt.cm.jet\n",
    "cmap.set_under('w')\n",
    "im = ax.imshow(labeled_array, cmap=cmap, interpolation='nearest')\n",
    "\n",
    "FN = FringeNumberer(im, slices)\n",
    "\n",
    "plt.show()"
   ]
  },
  {
   "cell_type": "code",
   "execution_count": 277,
   "metadata": {
    "collapsed": false,
    "scrolled": true
   },
   "outputs": [],
   "source": [
    "FN.remove_unlabelled()\n",
    "points, values=FN.output_points_values()"
   ]
  },
  {
   "cell_type": "code",
   "execution_count": 225,
   "metadata": {
    "collapsed": false
   },
   "outputs": [],
   "source": []
  },
  {
   "cell_type": "code",
   "execution_count": 294,
   "metadata": {
    "collapsed": false
   },
   "outputs": [
    {
     "name": "stdout",
     "output_type": "stream",
     "text": [
      "Wall time: 0 ns\n"
     ]
    }
   ],
   "source": [
    "%time\n",
    "li=LinearNDInterpolator(points, values)\n",
    "d=li(grid_x.ravel(), grid_y.ravel())"
   ]
  },
  {
   "cell_type": "code",
   "execution_count": 295,
   "metadata": {
    "collapsed": false
   },
   "outputs": [
    {
     "name": "stdout",
     "output_type": "stream",
     "text": [
      "Wall time: 0 ns\n"
     ]
    }
   ],
   "source": [
    "%time\n",
    "CT=CloughTocher2DInterpolator(points, values, tol=1e-8, maxiter=1000)\n",
    "d=CT(grid_x.ravel(), grid_y.ravel())"
   ]
  },
  {
   "cell_type": "code",
   "execution_count": 279,
   "metadata": {
    "collapsed": false
   },
   "outputs": [],
   "source": [
    "grid_x, grid_y = np.mgrid[0:labeled_array.shape[0], 0:labeled_array.shape[1]]"
   ]
  },
  {
   "cell_type": "code",
   "execution_count": 280,
   "metadata": {
    "collapsed": false
   },
   "outputs": [],
   "source": [
    "d=CT(grid_x.ravel(), grid_y.ravel())"
   ]
  },
  {
   "cell_type": "code",
   "execution_count": 281,
   "metadata": {
    "collapsed": false
   },
   "outputs": [],
   "source": [
    "dr=d.reshape(grid_x.shape[0],grid_x.shape[1])\n",
    "\n",
    "fig = plt.figure()\n",
    "ax = fig.add_subplot(111)\n",
    "im = ax.imshow(np.nan_to_num(dr), clim=[-100,100],interpolation='nearest')"
   ]
  },
  {
   "cell_type": "code",
   "execution_count": 282,
   "metadata": {
    "collapsed": false
   },
   "outputs": [],
   "source": [
    "fl=FN.fringe_labelled_only"
   ]
  },
  {
   "cell_type": "code",
   "execution_count": 249,
   "metadata": {
    "collapsed": false
   },
   "outputs": [],
   "source": [
    "fig = plt.figure()\n",
    "ax = fig.add_subplot(111)\n",
    "cmap = plt.cm.jet\n",
    "cmap.set_under('w')\n",
    "\n",
    "im = ax.imshow(fl[1200:2200,1500:3500], cmap=cmap,clim=[0,fl.max()],interpolation='nearest')"
   ]
  },
  {
   "cell_type": "code",
   "execution_count": 262,
   "metadata": {
    "collapsed": false
   },
   "outputs": [],
   "source": [
    "from scipy.spatial import Delaunay"
   ]
  },
  {
   "cell_type": "code",
   "execution_count": 284,
   "metadata": {
    "collapsed": false
   },
   "outputs": [],
   "source": [
    "tri=Delaunay(points)\n",
    "fig = plt.figure()\n",
    "ax = fig.add_subplot(111)\n",
    "\n",
    "ax.triplot(points[:,1], points[:,0], tri.simplices.copy())\n",
    "ax.plot(points[:,1], points[:,0], 'o')\n",
    "ax.invert_yaxis()\n",
    "im = ax.imshow(np.nan_to_num(dr), clim=[-100,100],interpolation='nearest')\n"
   ]
  },
  {
   "cell_type": "code",
   "execution_count": 283,
   "metadata": {
    "collapsed": false
   },
   "outputs": [],
   "source": [
    "fig = plt.figure()\n",
    "ax = fig.add_subplot(111)\n",
    "cmap = plt.cm.jet\n",
    "cmap.set_under('w')\n",
    "\n",
    "#ax.triplot(points[:,1], points[:,0], tri.simplices.copy())\n",
    "ax.plot(points[:,1], points[:,0], 'o')\n",
    "ax.invert_yaxis()\n",
    "\n",
    "im = ax.imshow(fl, cmap=cmap,clim=[0,fl.max()],interpolation='nearest')"
   ]
  },
  {
   "cell_type": "code",
   "execution_count": 286,
   "metadata": {
    "collapsed": false
   },
   "outputs": [],
   "source": [
    "drm=np.ma.asarray(dr)\n",
    "drm.mask=tm.mask"
   ]
  },
  {
   "cell_type": "code",
   "execution_count": 291,
   "metadata": {
    "collapsed": false
   },
   "outputs": [],
   "source": [
    "fig = plt.figure()\n",
    "ax = fig.add_subplot(111)\n",
    "cmap = plt.cm.jet\n",
    "cmap.set_under('w')\n",
    "\n",
    "im = ax.imshow(drm, cmap=cmap,interpolation='nearest')"
   ]
  },
  {
   "cell_type": "code",
   "execution_count": 289,
   "metadata": {
    "collapsed": false
   },
   "outputs": [
    {
     "data": {
      "text/plain": [
       "nan"
      ]
     },
     "execution_count": 289,
     "metadata": {},
     "output_type": "execute_result"
    }
   ],
   "source": [
    "drm.max()"
   ]
  },
  {
   "cell_type": "code",
   "execution_count": null,
   "metadata": {
    "collapsed": true
   },
   "outputs": [],
   "source": []
  }
 ],
 "metadata": {
  "kernelspec": {
   "display_name": "Python 3",
   "language": "python",
   "name": "python3"
  },
  "language_info": {
   "codemirror_mode": {
    "name": "ipython",
    "version": 3
   },
   "file_extension": ".py",
   "mimetype": "text/x-python",
   "name": "python",
   "nbconvert_exporter": "python",
   "pygments_lexer": "ipython3",
   "version": "3.4.3"
  }
 },
 "nbformat": 4,
 "nbformat_minor": 0
}
