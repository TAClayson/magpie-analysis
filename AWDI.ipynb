{
 "cells": [
  {
   "cell_type": "code",
   "execution_count": 1,
   "metadata": {
    "collapsed": false
   },
   "outputs": [],
   "source": [
    "%matplotlib qt\n",
    "from scipy.ndimage.measurements import label, find_objects\n",
    "from scipy.interpolate import LinearNDInterpolator, CloughTocher2DInterpolator\n",
    "import numpy as np\n",
    "import matplotlib.pyplot as plt"
   ]
  },
  {
   "cell_type": "code",
   "execution_count": 2,
   "metadata": {
    "collapsed": false
   },
   "outputs": [
    {
     "name": "stdout",
     "output_type": "stream",
     "text": [
      "C:\\Users\\jdavies\\Google Drive\\MAGPIE\\data\\2015\\s1029_15 Reconnection C 32 Wire TS in layer 280 ns\n"
     ]
    }
   ],
   "source": [
    "cd \"C:\\Users\\jdavies\\Google Drive\\MAGPIE\\data\\2015\\s1029_15 Reconnection C 32 Wire TS in layer 280 ns\""
   ]
  },
  {
   "cell_type": "code",
   "execution_count": 124,
   "metadata": {
    "collapsed": false
   },
   "outputs": [],
   "source": [
    "t=plt.imread('s1029_15 532 plasma.png')\n",
    "t=t.sum(axis=2)\n",
    "mask_colour=np.unique(t)[1]#find the shade of gray\n",
    "tm=np.ma.masked_equal(t, mask_colour) #get the mask\n",
    "tt=(-tm+4)/3\n",
    "th=np.clip(tt,a_min=0, a_max=2)"
   ]
  },
  {
   "cell_type": "code",
   "execution_count": 125,
   "metadata": {
    "collapsed": false
   },
   "outputs": [],
   "source": [
    "structure=np.ones((3,3))\n",
    "labeled_array, num_fringes = label(th, structure=structure)\n",
    "slices=find_objects(labeled_array)\n",
    "labeled_array[labeled_array==0]=-9999\n",
    "labeled_array=labeled_array-1\n",
    "#la=np.ma.masked_equal(labeled_array, 0)"
   ]
  },
  {
   "cell_type": "code",
   "execution_count": 276,
   "metadata": {
    "collapsed": false,
    "scrolled": false
   },
   "outputs": [
    {
     "name": "stdout",
     "output_type": "stream",
     "text": [
      "click MPL MouseEvent: xy=(199,227) xydata=(439.516129032,1645.16129032) button=1 dblclick=False inaxes=Axes(0.125,0.154114;0.775x0.691771)\n",
      "click MPL MouseEvent: xy=(199,227) xydata=(439.516129032,1645.16129032) button=1 dblclick=True inaxes=Axes(0.125,0.154114;0.775x0.691771)\n",
      "Begin Line\n",
      "click MPL MouseEvent: xy=(522,231) xydata=(4346.77419355,1596.77419355) button=1 dblclick=False inaxes=Axes(0.125,0.154114;0.775x0.691771)\n",
      "Add segment\n",
      "click MPL MouseEvent: xy=(522,231) xydata=(4405.28870293,1583.68200837) button=1 dblclick=True inaxes=Axes(0.157585,0.1;0.70983x0.8)\n",
      "End Line\n"
     ]
    }
   ],
   "source": [
    "class FringeNumberer:\n",
    "    def __init__(self, im, slices):\n",
    "        self.num_fringes=len(slices)\n",
    "        self.fringe_dict={key: None for (key, value) in zip(range(num_fringes),range(num_fringes))}\n",
    "        self.line,=im.axes.plot([0],[0],lw=1)\n",
    "        self.im = im\n",
    "        self.fringe_indexes= im.get_array().copy()\n",
    "        self.fringe_labels=np.zeros_like(self.fringe_indexes)-10000\n",
    "        self.initialise_fringe_map()\n",
    "        self.xs = []\n",
    "        self.ys = []\n",
    "        self.in_a_line=False\n",
    "        self.cid = im.figure.canvas.mpl_connect('button_press_event', self)\n",
    "\n",
    "    def __call__(self, event):\n",
    "        ax=self.im.axes\n",
    "        print('click', event)\n",
    "        if event.inaxes!=ax: \n",
    "            print('return')\n",
    "            return\n",
    "        if event.dblclick is True and self.in_a_line is False:\n",
    "            print('Begin Line')\n",
    "            ax.set_title('Dbl click to start, click to add, dbl click to end')\n",
    "            self.in_a_line=True\n",
    "            self.xs=[event.xdata]\n",
    "            self.ys=[event.ydata]\n",
    "            return\n",
    "        if event.dblclick is True and self.in_a_line is True:\n",
    "            print('End Line')\n",
    "            self.in_a_line=False\n",
    "            self.xs.append(event.xdata)\n",
    "            self.ys.append(event.ydata)\n",
    "            self.line.set_data(self.xs, self.ys)\n",
    "            ax.set_xlim([0,la.shape[0]])\n",
    "            ax.set_xlim([0,la.shape[1]])\n",
    "            self.get_labels()\n",
    "            self.check_labels()\n",
    "            self.label_fringes()\n",
    "            self.update_fringe_map()\n",
    "            self.line.figure.canvas.draw()\n",
    "            return\n",
    "        if event.dblclick is False and self.in_a_line is True:\n",
    "            print('Add segment')\n",
    "            self.xs.append(event.xdata)\n",
    "            self.ys.append(event.ydata)\n",
    "            self.line.set_data(self.xs, self.ys)\n",
    "            ax.set_xlim([0,la.shape[0]])\n",
    "            ax.set_xlim([0,la.shape[1]])\n",
    "            self.line.figure.canvas.draw()\n",
    "            return\n",
    "        \n",
    "    def get_labels(self):\n",
    "        d=self.fringe_indexes\n",
    "        self.fringe_indexes_on_line=[]\n",
    "        for i in range(len(self.xs)-1):\n",
    "            x0, y0 = self.xs[i], self.ys[i] # These are in _pixel_ coordinates!!\n",
    "            x1, y1 = self.xs[i+1], self.ys[i+1]\n",
    "            length = int(np.hypot(x1-x0, y1-y0))\n",
    "            x, y = np.linspace(x0, x1, length), np.linspace(y0, y1, length)\n",
    "            # Extract the values along the line\n",
    "            zi = d[y.astype(np.int), x.astype(np.int)]\n",
    "            zi=[z for z in zi if z!=-10000]\n",
    "            self.fringe_indexes_on_line.extend(zi)\n",
    "            \n",
    "    def check_labels(self):        \n",
    "        fn=self.fringe_indexes_on_line\n",
    "        #remove adjacent duplicates\n",
    "        self.fringe_indexes_on_line=[n for i, n in enumerate(fn) if i==0 or n != fn[i-1]]\n",
    "        #check there are no other duplicates\n",
    "        if len(set(self.fringe_indexes_on_line)) is not len(self.fringe_indexes_on_line):\n",
    "            self.im.axes.set_title('Line recrosses fringes, try again')\n",
    "            self.im.axes.title.set_color('r')\n",
    "            self.line.figure.canvas.draw()\n",
    "            #self.fringe_indexes_on_line=[]\n",
    "            return\n",
    "        else:\n",
    "            return\n",
    "        \n",
    "    def label_fringes(self):\n",
    "        mode=+1\n",
    "        start_index=self.fringe_dict[self.fringe_indexes_on_line[0]]\n",
    "        if start_index is None:\n",
    "            start_index=0\n",
    "        for ind, f in enumerate(self.fringe_indexes_on_line):\n",
    "            self.fringe_dict[f]=start_index+ind*mode\n",
    "            \n",
    "    def update_fringe_map(self):\n",
    "        for f in range(self.num_fringes):\n",
    "            s=slices[f]\n",
    "            si=self.fringe_indexes[s]\n",
    "            sl=self.fringe_labels[s]\n",
    "            if self.fringe_dict[f] is not None:\n",
    "                sl[si==f]=self.fringe_dict[f]\n",
    "            else:\n",
    "                sl[si==f]=1\n",
    "        self.im.set_data(self.fringe_labels)\n",
    "        \n",
    "        mi=min(x for x in self.fringe_dict.values() if x is not None)\n",
    "        ma=max(x for x in self.fringe_dict.values() if x is not None)\n",
    "        self.im.set_clim([mi, ma])\n",
    "        self.im.figure.canvas.draw()\n",
    "    \n",
    "    def initialise_fringe_map(self):\n",
    "        for f in range(self.num_fringes):\n",
    "            s=slices[f]\n",
    "            si=self.fringe_indexes[s]\n",
    "            sl=self.fringe_labels[s]\n",
    "            sl[si==f]=1\n",
    "        self.im.set_data(self.fringe_labels)\n",
    "        self.im.set_clim([0, 1])\n",
    "        self.im.figure.canvas.draw()\n",
    "        \n",
    "    def output_points_values(self):\n",
    "        points=np.zeros((0,2))\n",
    "        values=np.zeros((0))\n",
    "        mi=min(x for x in self.fringe_dict.values() if x is not None)\n",
    "        ma=max(x for x in self.fringe_dict.values() if x is not None)\n",
    "        for fl in range(mi, ma+1):\n",
    "            p=np.transpose(np.where(self.fringe_labelled_only==fl))\n",
    "            points=np.append(points,p,axis=0)\n",
    "            v=np.zeros(p.shape[0])+fl\n",
    "            values=np.append(values, v)\n",
    "        self.labeled_points=points\n",
    "        self.labeled_values=values\n",
    "        return points, values\n",
    "        \n",
    "    def remove_unlabelled(self):\n",
    "        arr=np.zeros_like(self.fringe_labels)-10000\n",
    "        for f in range(self.num_fringes):\n",
    "            s=slices[f]\n",
    "            si=self.fringe_indexes[s]\n",
    "            sl=arr[s]\n",
    "            if self.fringe_dict[f] is not None:\n",
    "                sl[si==f]=self.fringe_dict[f]\n",
    "        self.fringe_labelled_only=arr        \n",
    "            \n",
    "fig = plt.figure()\n",
    "ax = fig.add_subplot(111)\n",
    "ax.set_title('Dbl click to start, click to add, dbl click to end')\n",
    "\n",
    "cmap = plt.cm.jet\n",
    "cmap.set_under('w')\n",
    "im = ax.imshow(labeled_array, cmap=cmap, interpolation='nearest')\n",
    "\n",
    "FN = FringeNumberer(im, slices)\n",
    "\n",
    "plt.show()"
   ]
  },
  {
   "cell_type": "code",
   "execution_count": 277,
   "metadata": {
    "collapsed": false,
    "scrolled": true
   },
   "outputs": [],
   "source": [
    "FN.remove_unlabelled()\n",
    "points, values=FN.output_points_values()"
   ]
  },
  {
   "cell_type": "code",
   "execution_count": 225,
   "metadata": {
    "collapsed": false
   },
   "outputs": [],
   "source": []
  },
  {
   "cell_type": "code",
   "execution_count": 294,
   "metadata": {
    "collapsed": false
   },
   "outputs": [
    {
     "name": "stdout",
     "output_type": "stream",
     "text": [
      "Wall time: 0 ns\n"
     ]
    }
   ],
   "source": [
    "%time\n",
    "li=LinearNDInterpolator(points, values)\n",
    "d=li(grid_x.ravel(), grid_y.ravel())"
   ]
  },
  {
   "cell_type": "code",
   "execution_count": 295,
   "metadata": {
    "collapsed": false
   },
   "outputs": [
    {
     "name": "stdout",
     "output_type": "stream",
     "text": [
      "Wall time: 0 ns\n"
     ]
    }
   ],
   "source": [
    "%time\n",
    "CT=CloughTocher2DInterpolator(points, values, tol=1e-8, maxiter=1000)\n",
    "d=CT(grid_x.ravel(), grid_y.ravel())"
   ]
  },
  {
   "cell_type": "code",
   "execution_count": 279,
   "metadata": {
    "collapsed": false
   },
   "outputs": [],
   "source": [
    "grid_x, grid_y = np.mgrid[0:labeled_array.shape[0], 0:labeled_array.shape[1]]"
   ]
  },
  {
   "cell_type": "code",
   "execution_count": 280,
   "metadata": {
    "collapsed": false
   },
   "outputs": [],
   "source": [
    "d=CT(grid_x.ravel(), grid_y.ravel())"
   ]
  },
  {
   "cell_type": "code",
   "execution_count": 281,
   "metadata": {
    "collapsed": false
   },
   "outputs": [],
   "source": [
    "dr=d.reshape(grid_x.shape[0],grid_x.shape[1])\n",
    "\n",
    "fig = plt.figure()\n",
    "ax = fig.add_subplot(111)\n",
    "im = ax.imshow(np.nan_to_num(dr), clim=[-100,100],interpolation='nearest')"
   ]
  },
  {
   "cell_type": "code",
   "execution_count": 282,
   "metadata": {
    "collapsed": false
   },
   "outputs": [],
   "source": [
    "fl=FN.fringe_labelled_only"
   ]
  },
  {
   "cell_type": "code",
   "execution_count": 249,
   "metadata": {
    "collapsed": false
   },
   "outputs": [],
   "source": [
    "fig = plt.figure()\n",
    "ax = fig.add_subplot(111)\n",
    "cmap = plt.cm.jet\n",
    "cmap.set_under('w')\n",
    "\n",
    "im = ax.imshow(fl[1200:2200,1500:3500], cmap=cmap,clim=[0,fl.max()],interpolation='nearest')"
   ]
  },
  {
   "cell_type": "code",
   "execution_count": 262,
   "metadata": {
    "collapsed": false
   },
   "outputs": [],
   "source": [
    "from scipy.spatial import Delaunay"
   ]
  },
  {
   "cell_type": "code",
   "execution_count": 284,
   "metadata": {
    "collapsed": false
   },
   "outputs": [],
   "source": [
    "tri=Delaunay(points)\n",
    "fig = plt.figure()\n",
    "ax = fig.add_subplot(111)\n",
    "\n",
    "ax.triplot(points[:,1], points[:,0], tri.simplices.copy())\n",
    "ax.plot(points[:,1], points[:,0], 'o')\n",
    "ax.invert_yaxis()\n",
    "im = ax.imshow(np.nan_to_num(dr), clim=[-100,100],interpolation='nearest')\n"
   ]
  },
  {
   "cell_type": "code",
   "execution_count": 283,
   "metadata": {
    "collapsed": false
   },
   "outputs": [],
   "source": [
    "fig = plt.figure()\n",
    "ax = fig.add_subplot(111)\n",
    "cmap = plt.cm.jet\n",
    "cmap.set_under('w')\n",
    "\n",
    "#ax.triplot(points[:,1], points[:,0], tri.simplices.copy())\n",
    "ax.plot(points[:,1], points[:,0], 'o')\n",
    "ax.invert_yaxis()\n",
    "\n",
    "im = ax.imshow(fl, cmap=cmap,clim=[0,fl.max()],interpolation='nearest')"
   ]
  },
  {
   "cell_type": "code",
   "execution_count": 286,
   "metadata": {
    "collapsed": false
   },
   "outputs": [],
   "source": [
    "drm=np.ma.asarray(dr)\n",
    "drm.mask=tm.mask"
   ]
  },
  {
   "cell_type": "code",
   "execution_count": 291,
   "metadata": {
    "collapsed": false
   },
   "outputs": [],
   "source": [
    "fig = plt.figure()\n",
    "ax = fig.add_subplot(111)\n",
    "cmap = plt.cm.jet\n",
    "cmap.set_under('w')\n",
    "\n",
    "im = ax.imshow(drm, cmap=cmap,interpolation='nearest')"
   ]
  },
  {
   "cell_type": "code",
   "execution_count": 289,
   "metadata": {
    "collapsed": false
   },
   "outputs": [
    {
     "data": {
      "text/plain": [
       "nan"
      ]
     },
     "execution_count": 289,
     "metadata": {},
     "output_type": "execute_result"
    }
   ],
   "source": [
    "drm.max()"
   ]
  },
  {
   "cell_type": "code",
   "execution_count": null,
   "metadata": {
    "collapsed": true
   },
   "outputs": [],
   "source": []
  }
 ],
 "metadata": {
  "kernelspec": {
   "display_name": "Python 3",
   "language": "python",
   "name": "python3"
  },
  "language_info": {
   "codemirror_mode": {
    "name": "ipython",
    "version": 3
   },
   "file_extension": ".py",
   "mimetype": "text/x-python",
   "name": "python",
   "nbconvert_exporter": "python",
   "pygments_lexer": "ipython3",
   "version": "3.4.3"
  }
 },
 "nbformat": 4,
 "nbformat_minor": 0
}
