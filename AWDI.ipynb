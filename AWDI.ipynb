{
 "cells": [
  {
   "cell_type": "code",
   "execution_count": 2,
   "metadata": {
    "collapsed": false
   },
   "outputs": [],
   "source": [
    "%matplotlib qt\n",
    "from scipy.ndimage.measurements import label, find_objects\n",
    "import numpy as np\n",
    "import matplotlib.pyplot as plt"
   ]
  },
  {
   "cell_type": "code",
   "execution_count": 3,
   "metadata": {
    "collapsed": false
   },
   "outputs": [
    {
     "name": "stdout",
     "output_type": "stream",
     "text": [
      "C:\\Users\\jdavies\\Google Drive\\MAGPIE\\data\\2015\\s1029_15 Reconnection C 32 Wire TS in layer 280 ns\n"
     ]
    }
   ],
   "source": [
    "cd \"C:\\Users\\jdavies\\Google Drive\\MAGPIE\\data\\2015\\s1029_15 Reconnection C 32 Wire TS in layer 280 ns\""
   ]
  },
  {
   "cell_type": "code",
   "execution_count": 4,
   "metadata": {
    "collapsed": true
   },
   "outputs": [],
   "source": [
    "t=plt.imread('s1029_15 532 plasma.png')\n",
    "t=t.sum(axis=2)\n",
    "th=-np.clip(t,a_min=-10, a_max=2)+2"
   ]
  },
  {
   "cell_type": "code",
   "execution_count": 5,
   "metadata": {
    "collapsed": false
   },
   "outputs": [],
   "source": [
    "structure=np.ones((3,3))\n",
    "labeled_array, num_fringes = label(th, structure=structure)\n",
    "la=np.ma.masked_equal(labeled_array, 0)"
   ]
  },
  {
   "cell_type": "code",
   "execution_count": 27,
   "metadata": {
    "collapsed": false
   },
   "outputs": [],
   "source": [
    "fig, ax= plt.subplots()\n",
    "ii=ax.imshow(-np.ma.masked_equal(la, 0)/300.0, interpolation='none')"
   ]
  },
  {
   "cell_type": "code",
   "execution_count": 22,
   "metadata": {
    "collapsed": false,
    "scrolled": false
   },
   "outputs": [
    {
     "name": "stdout",
     "output_type": "stream",
     "text": [
      "click MPL MouseEvent: xy=(132,232) xydata=(325.790794979,1573.22175732) button=1 dblclick=False inaxes=Axes(0.157585,0.1;0.70983x0.8)\n",
      "click MPL MouseEvent: xy=(132,232) xydata=(325.790794979,1573.22175732) button=1 dblclick=True inaxes=Axes(0.157585,0.1;0.70983x0.8)\n",
      "Begin Line\n",
      "click MPL MouseEvent: xy=(520,241) xydata=(4384.36820084,1479.07949791) button=1 dblclick=False inaxes=Axes(0.157585,0.1;0.70983x0.8)\n",
      "Add segment\n",
      "click MPL MouseEvent: xy=(520,241) xydata=(4384.36820084,1479.07949791) button=1 dblclick=True inaxes=Axes(0.157585,0.1;0.70983x0.8)\n",
      "End Line\n",
      "click MPL MouseEvent: xy=(569,601) xydata=(461.793357934,1227.8597786) button=1 dblclick=False inaxes=Axes(0.24421,0.1;0.53658x0.8)\n",
      "click MPL MouseEvent: xy=(789,689) xydata=(1293.97665456,1431.69525949) button=1 dblclick=False inaxes=Axes(0.125,0.240339;0.775x0.519322)\n",
      "click MPL MouseEvent: xy=(356,546) xydata=(1349.1613422,1515.4359754) button=1 dblclick=False inaxes=Axes(0.125,0.333925;0.775x0.332151)\n",
      "click MPL MouseEvent: xy=(641,792) xydata=(793.896678967,346.863468635) button=1 dblclick=False inaxes=Axes(0.24421,0.1;0.53658x0.8)\n",
      "click MPL MouseEvent: xy=(1143,648) xydata=(3109.39483395,1011.0701107) button=1 dblclick=False inaxes=Axes(0.24421,0.1;0.53658x0.8)\n",
      "click MPL MouseEvent: xy=(1111,747) xydata=(2961.79335793,554.42804428) button=1 dblclick=False inaxes=Axes(0.24421,0.1;0.53658x0.8)\n",
      "click MPL MouseEvent: xy=(387,1002) xydata=(None,None) button=1 dblclick=False inaxes=None\n",
      "return\n",
      "click MPL MouseEvent: xy=(564,504) xydata=(438.730627306,1675.27675277) button=1 dblclick=False inaxes=Axes(0.24421,0.1;0.53658x0.8)\n",
      "click MPL MouseEvent: xy=(564,504) xydata=(438.730627306,1675.27675277) button=1 dblclick=True inaxes=Axes(0.24421,0.1;0.53658x0.8)\n",
      "Begin Line\n",
      "click MPL MouseEvent: xy=(736,506) xydata=(1232.08856089,1666.05166052) button=1 dblclick=False inaxes=Axes(0.24421,0.1;0.53658x0.8)\n",
      "Add segment\n",
      "click MPL MouseEvent: xy=(736,506) xydata=(1232.08856089,1666.05166052) button=1 dblclick=True inaxes=Axes(0.24421,0.1;0.53658x0.8)\n",
      "End Line\n",
      "click MPL MouseEvent: xy=(426,392) xydata=(1162.91983122,1932.48945148) button=1 dblclick=False inaxes=Axes(0.160555,0.1;0.70389x0.8)\n",
      "click MPL MouseEvent: xy=(426,392) xydata=(1162.91983122,1932.48945148) button=1 dblclick=True inaxes=Axes(0.160555,0.1;0.70389x0.8)\n",
      "Begin Line\n",
      "click MPL MouseEvent: xy=(584,395) xydata=(1996.25316456,1916.66666667) button=1 dblclick=False inaxes=Axes(0.160555,0.1;0.70389x0.8)\n",
      "Add segment\n",
      "click MPL MouseEvent: xy=(584,395) xydata=(1996.25316456,1916.66666667) button=1 dblclick=True inaxes=Axes(0.160555,0.1;0.70389x0.8)\n",
      "End Line\n",
      "click MPL MouseEvent: xy=(398,437) xydata=(1015.24050633,1695.14767932) button=1 dblclick=False inaxes=Axes(0.160555,0.1;0.70389x0.8)\n",
      "click MPL MouseEvent: xy=(432,507) xydata=(1236.50428746,1968.93608786) button=1 dblclick=False inaxes=Axes(0.125,0.11016;0.775x0.779681)\n",
      "click MPL MouseEvent: xy=(432,507) xydata=(1236.50428746,1968.93608786) button=1 dblclick=True inaxes=Axes(0.125,0.11016;0.775x0.779681)\n",
      "Begin Line\n",
      "click MPL MouseEvent: xy=(509,448) xydata=(1299.1414608,2016.93080509) button=1 dblclick=False inaxes=Axes(0.125,0.11016;0.775x0.779681)\n",
      "Add segment\n",
      "click MPL MouseEvent: xy=(509,448) xydata=(1671.82258065,2120.32897781) button=1 dblclick=True inaxes=Axes(0.125,0.433799;0.775x0.132402)\n",
      "End Line\n",
      "click MPL MouseEvent: xy=(406,505) xydata=(1178.41935484,1847.28059072) button=1 dblclick=False inaxes=Axes(0.125,0.433799;0.775x0.132402)\n",
      "click MPL MouseEvent: xy=(431,591) xydata=(1234.91029502,1943.33716993) button=1 dblclick=False inaxes=Axes(0.21625,0.1;0.5925x0.8)\n",
      "click MPL MouseEvent: xy=(431,591) xydata=(1234.91029502,1943.33716993) button=1 dblclick=True inaxes=Axes(0.21625,0.1;0.5925x0.8)\n",
      "Begin Line\n",
      "click MPL MouseEvent: xy=(649,532) xydata=(1314.77427011,1964.951732) button=1 dblclick=False inaxes=Axes(0.21625,0.1;0.5925x0.8)\n",
      "Add segment\n",
      "click MPL MouseEvent: xy=(649,532) xydata=(None,None) button=1 dblclick=True inaxes=None\n",
      "return\n",
      "click MPL MouseEvent: xy=(434,481) xydata=(1312.5483871,1952.66768749) button=1 dblclick=False inaxes=Axes(0.125,0.469409;0.775x0.0611814)\n",
      "Add segment\n",
      "click MPL MouseEvent: xy=(434,481) xydata=(1312.5483871,1952.66768749) button=1 dblclick=True inaxes=Axes(0.125,0.469409;0.775x0.0611814)\n",
      "End Line\n"
     ]
    }
   ],
   "source": [
    "%matplotlib qt\n",
    "from matplotlib import pyplot as plt\n",
    "\n",
    "class FringeNumberer:\n",
    "    def __init__(self, im, num_fringes):\n",
    "        self.num_fringes=num_fringes\n",
    "        self.fringe_dict={key: np.nan for (key, value) in zip(range(1,num_fringes+1),range(num_fringes))}\n",
    "        self.line,=im.axes.plot([0],[0],lw=2)\n",
    "        self.im = im\n",
    "        self.fringe_indexes= im.get_array().copy()\n",
    "        self.update_fringe_map()\n",
    "        self.xs = []\n",
    "        self.ys = []\n",
    "        self.in_a_line=False\n",
    "        self.cid = im.figure.canvas.mpl_connect('button_press_event', self)\n",
    "\n",
    "    def __call__(self, event):\n",
    "        ax=self.im.axes\n",
    "        print('click', event)\n",
    "        if event.inaxes!=ax: \n",
    "            print('return')\n",
    "            return\n",
    "        if event.dblclick is True and self.in_a_line is False:\n",
    "            print('Begin Line')\n",
    "            ax.set_title('Dbl click to start, click to add, dbl click to end')\n",
    "            self.in_a_line=True\n",
    "            self.xs=[event.xdata]\n",
    "            self.ys=[event.ydata]\n",
    "            return\n",
    "        if event.dblclick is True and self.in_a_line is True:\n",
    "            print('End Line')\n",
    "            self.in_a_line=False\n",
    "            self.xs.append(event.xdata)\n",
    "            self.ys.append(event.ydata)\n",
    "            self.line.set_data(self.xs, self.ys)\n",
    "            ax.set_xlim([0,la.shape[0]])\n",
    "            ax.set_xlim([0,la.shape[1]])\n",
    "            self.get_labels()\n",
    "            self.check_labels()\n",
    "            self.label_fringes()\n",
    "            self.update_fringe_map()\n",
    "            self.line.figure.canvas.draw()\n",
    "            return\n",
    "        if event.dblclick is False and self.in_a_line is True:\n",
    "            print('Add segment')\n",
    "            self.xs.append(event.xdata)\n",
    "            self.ys.append(event.ydata)\n",
    "            self.line.set_data(self.xs, self.ys)\n",
    "            ax.set_xlim([0,la.shape[0]])\n",
    "            ax.set_xlim([0,la.shape[1]])\n",
    "            self.line.figure.canvas.draw()\n",
    "            return\n",
    "        \n",
    "    def get_labels(self):\n",
    "        d=self.fringe_indexes\n",
    "        self.fringe_indexes_on_line=[]\n",
    "        for i in range(len(self.xs)-1):\n",
    "            x0, y0 = self.xs[i], self.ys[i] # These are in _pixel_ coordinates!!\n",
    "            x1, y1 = self.xs[i+1], self.ys[i+1]\n",
    "            length = 3*int(np.hypot(x1-x0, y1-y0))\n",
    "            x, y = np.linspace(x0, x1, length), np.linspace(y0, y1, length)\n",
    "            # Extract the values along the line\n",
    "            zi = d[y.astype(np.int), x.astype(np.int)]\n",
    "            zi=[z for z in zi if z!=0]\n",
    "            self.fringe_indexes_on_line.extend(zi)\n",
    "            \n",
    "    def check_labels(self):        \n",
    "        fn=self.fringe_indexes_on_line\n",
    "        #remove adjacent duplicates\n",
    "        self.fringe_indexes_on_line=[n for i, n in enumerate(fn) if i==0 or n != fn[i-1]]\n",
    "        #check there are no other duplicates\n",
    "        if len(set(self.fringe_indexes_on_line)) is not len(self.fringe_indexes_on_line):\n",
    "            self.im.axes.set_title('Line recrosses fringes, try again')\n",
    "            self.im.axes.title.set_color('r')\n",
    "            self.line.figure.canvas.draw()\n",
    "            self.fringe_indexes_on_line=[]\n",
    "            return\n",
    "        else:\n",
    "            return\n",
    "        \n",
    "    def label_fringes(self):\n",
    "        mode=+1\n",
    "        start_index=self.fringe_dict[self.fringe_indexes_on_line[0]]\n",
    "        if start_index is np.nan:\n",
    "            start_index=1\n",
    "        for ind, f in enumerate(self.fringe_indexes_on_line):\n",
    "            self.fringe_dict[f]=start_index+ind*mode\n",
    "            \n",
    "    def update_fringe_map(self):\n",
    "        arr=self.fringe_indexes.copy()\n",
    "        for f in range(1,self.num_fringes+1):\n",
    "            if self.fringe_dict[f] is np.nan:\n",
    "                arr[arr==f]=1\n",
    "            else:\n",
    "                arr[arr==f]=self.fringe_dict[f]\n",
    "        self.im.set_data(arr)\n",
    "        self.im.set_clim([arr.min(), arr.max()])\n",
    "        self.im.figure.canvas.draw()   \n",
    "        \n",
    "        \n",
    "            \n",
    "fig = plt.figure()\n",
    "ax = fig.add_subplot(111)\n",
    "ax.set_title('Dbl click to start, click to add, dbl click to end')\n",
    "\n",
    "cmap = plt.cm.jet\n",
    "cmap.set_bad('w',0)\n",
    "im = ax.imshow(la, cmap=cmap, interpolation='nearest')\n",
    "\n",
    "ax.set_xlim([0,la.shape[0]])\n",
    "ax.set_xlim([0,la.shape[1]])\n",
    "\n",
    "FN = FringeNumberer(im, num_fringes)\n",
    "\n",
    "plt.show()"
   ]
  },
  {
   "cell_type": "code",
   "execution_count": 15,
   "metadata": {
    "collapsed": false,
    "scrolled": true
   },
   "outputs": [
    {
     "data": {
      "text/plain": [
       "2"
      ]
     },
     "execution_count": 15,
     "metadata": {},
     "output_type": "execute_result"
    }
   ],
   "source": [
    "im.set_clim()"
   ]
  },
  {
   "cell_type": "code",
   "execution_count": 24,
   "metadata": {
    "collapsed": false
   },
   "outputs": [
    {
     "data": {
      "text/plain": [
       "{1: 68,\n",
       " 2: 69,\n",
       " 3: 70,\n",
       " 4: 67,\n",
       " 5: 13,\n",
       " 6: nan,\n",
       " 7: 14,\n",
       " 8: 15,\n",
       " 9: 16,\n",
       " 10: 21,\n",
       " 11: 17,\n",
       " 12: 18,\n",
       " 13: 20,\n",
       " 14: 19,\n",
       " 15: 71,\n",
       " 16: 66,\n",
       " 17: 12,\n",
       " 18: 72,\n",
       " 19: 65,\n",
       " 20: nan,\n",
       " 21: 11,\n",
       " 22: 22,\n",
       " 23: nan,\n",
       " 24: nan,\n",
       " 25: 64,\n",
       " 26: 10,\n",
       " 27: 63,\n",
       " 28: 23,\n",
       " 29: 62,\n",
       " 30: 24,\n",
       " 31: 9,\n",
       " 32: 25,\n",
       " 33: nan,\n",
       " 34: 61,\n",
       " 35: 60,\n",
       " 36: 8,\n",
       " 37: nan,\n",
       " 38: nan,\n",
       " 39: nan,\n",
       " 40: nan,\n",
       " 41: 26,\n",
       " 42: nan,\n",
       " 43: nan,\n",
       " 44: nan,\n",
       " 45: 7,\n",
       " 46: 59,\n",
       " 47: 27,\n",
       " 48: nan,\n",
       " 49: nan,\n",
       " 50: nan,\n",
       " 51: 58,\n",
       " 52: 28,\n",
       " 53: nan,\n",
       " 54: 29,\n",
       " 55: 73,\n",
       " 56: nan,\n",
       " 57: 57,\n",
       " 58: nan,\n",
       " 59: nan,\n",
       " 60: nan,\n",
       " 61: 30,\n",
       " 62: 56,\n",
       " 63: 6,\n",
       " 64: 55,\n",
       " 65: 31,\n",
       " 66: 74,\n",
       " 67: 54,\n",
       " 68: 32,\n",
       " 69: 5,\n",
       " 70: 33,\n",
       " 71: 34,\n",
       " 72: nan,\n",
       " 73: 53,\n",
       " 74: 35,\n",
       " 75: nan,\n",
       " 76: 36,\n",
       " 77: 52,\n",
       " 78: 51,\n",
       " 79: 37,\n",
       " 80: 50,\n",
       " 81: nan,\n",
       " 82: 38,\n",
       " 83: 4,\n",
       " 84: 39,\n",
       " 85: nan,\n",
       " 86: 49,\n",
       " 87: nan,\n",
       " 88: 40,\n",
       " 89: 41,\n",
       " 90: 48,\n",
       " 91: 47,\n",
       " 92: 42,\n",
       " 93: nan,\n",
       " 94: 43,\n",
       " 95: 46,\n",
       " 96: 44,\n",
       " 97: 45,\n",
       " 98: 75,\n",
       " 99: 3,\n",
       " 100: 2,\n",
       " 101: nan,\n",
       " 102: nan,\n",
       " 103: nan,\n",
       " 104: nan,\n",
       " 105: nan,\n",
       " 106: 1,\n",
       " 107: nan,\n",
       " 108: nan,\n",
       " 109: nan,\n",
       " 110: nan,\n",
       " 111: nan,\n",
       " 112: nan,\n",
       " 113: nan,\n",
       " 114: nan,\n",
       " 115: nan,\n",
       " 116: nan,\n",
       " 117: nan,\n",
       " 118: nan,\n",
       " 119: nan,\n",
       " 120: nan,\n",
       " 121: nan,\n",
       " 122: nan,\n",
       " 123: nan,\n",
       " 124: nan,\n",
       " 125: nan,\n",
       " 126: nan,\n",
       " 127: nan,\n",
       " 128: nan,\n",
       " 129: nan,\n",
       " 130: nan,\n",
       " 131: nan,\n",
       " 132: nan,\n",
       " 133: nan,\n",
       " 134: nan,\n",
       " 135: nan,\n",
       " 136: nan,\n",
       " 137: nan,\n",
       " 138: nan,\n",
       " 139: nan,\n",
       " 140: nan,\n",
       " 141: nan,\n",
       " 142: nan,\n",
       " 143: nan,\n",
       " 144: nan,\n",
       " 145: nan,\n",
       " 146: nan,\n",
       " 147: nan,\n",
       " 148: nan,\n",
       " 149: nan,\n",
       " 150: nan,\n",
       " 151: nan,\n",
       " 152: nan,\n",
       " 153: nan,\n",
       " 154: nan,\n",
       " 155: nan,\n",
       " 156: nan,\n",
       " 157: nan,\n",
       " 158: nan,\n",
       " 159: nan,\n",
       " 160: nan,\n",
       " 161: nan,\n",
       " 162: nan,\n",
       " 163: nan,\n",
       " 164: nan,\n",
       " 165: nan,\n",
       " 166: nan,\n",
       " 167: nan,\n",
       " 168: nan,\n",
       " 169: nan,\n",
       " 170: nan,\n",
       " 171: nan,\n",
       " 172: nan,\n",
       " 173: nan,\n",
       " 174: nan,\n",
       " 175: nan,\n",
       " 176: nan,\n",
       " 177: nan,\n",
       " 178: nan,\n",
       " 179: nan,\n",
       " 180: nan,\n",
       " 181: nan,\n",
       " 182: nan,\n",
       " 183: nan,\n",
       " 184: nan,\n",
       " 185: nan,\n",
       " 186: nan,\n",
       " 187: nan,\n",
       " 188: nan,\n",
       " 189: nan,\n",
       " 190: nan,\n",
       " 191: nan,\n",
       " 192: nan,\n",
       " 193: nan,\n",
       " 194: nan,\n",
       " 195: nan,\n",
       " 196: nan,\n",
       " 197: nan,\n",
       " 198: nan,\n",
       " 199: nan,\n",
       " 200: nan,\n",
       " 201: nan,\n",
       " 202: nan,\n",
       " 203: nan,\n",
       " 204: nan,\n",
       " 205: nan,\n",
       " 206: nan,\n",
       " 207: nan,\n",
       " 208: nan,\n",
       " 209: nan,\n",
       " 210: nan,\n",
       " 211: nan,\n",
       " 212: nan,\n",
       " 213: nan,\n",
       " 214: nan,\n",
       " 215: nan,\n",
       " 216: nan,\n",
       " 217: nan,\n",
       " 218: nan,\n",
       " 219: nan,\n",
       " 220: nan,\n",
       " 221: nan,\n",
       " 222: nan,\n",
       " 223: nan,\n",
       " 224: nan,\n",
       " 225: nan,\n",
       " 226: nan,\n",
       " 227: nan,\n",
       " 228: nan,\n",
       " 229: nan,\n",
       " 230: nan,\n",
       " 231: nan,\n",
       " 232: nan,\n",
       " 233: nan,\n",
       " 234: nan,\n",
       " 235: nan,\n",
       " 236: nan,\n",
       " 237: nan,\n",
       " 238: nan}"
      ]
     },
     "execution_count": 24,
     "metadata": {},
     "output_type": "execute_result"
    },
    {
     "name": "stdout",
     "output_type": "stream",
     "text": [
      "click MPL MouseEvent: xy=(457,646) xydata=(1326.42194093,592.827004219) button=1 dblclick=False inaxes=Axes(0.160555,0.1;0.70389x0.8)\n",
      "click MPL MouseEvent: xy=(889,535) xydata=(3604.90295359,1178.27004219) button=3 dblclick=False inaxes=Axes(0.160555,0.1;0.70389x0.8)\n",
      "click MPL MouseEvent: xy=(510,616) xydata=(1605.95780591,751.054852321) button=1 dblclick=False inaxes=Axes(0.160555,0.1;0.70389x0.8)\n",
      "click MPL MouseEvent: xy=(482,558) xydata=(2426.0097829,869.406730638) button=1 dblclick=False inaxes=Axes(0.125,0.362372;0.775x0.275257)\n"
     ]
    }
   ],
   "source": [
    "FN.fringe_dict"
   ]
  },
  {
   "cell_type": "code",
   "execution_count": 11,
   "metadata": {
    "collapsed": false
   },
   "outputs": [],
   "source": [
    "fo=find_objects(labeled_array)"
   ]
  },
  {
   "cell_type": "code",
   "execution_count": 19,
   "metadata": {
    "collapsed": false
   },
   "outputs": [
    {
     "data": {
      "text/plain": [
       "(2513, 280)"
      ]
     },
     "execution_count": 19,
     "metadata": {},
     "output_type": "execute_result"
    }
   ],
   "source": [
    "labeled_array[fo[1]].shape"
   ]
  },
  {
   "cell_type": "code",
   "execution_count": 18,
   "metadata": {
    "collapsed": false
   },
   "outputs": [
    {
     "ename": "TypeError",
     "evalue": "'slice' object is not iterable",
     "output_type": "error",
     "traceback": [
      "\u001b[1;31m---------------------------------------------------------------------------\u001b[0m",
      "\u001b[1;31mTypeError\u001b[0m                                 Traceback (most recent call last)",
      "\u001b[1;32m<ipython-input-18-bc7daa78e7a7>\u001b[0m in \u001b[0;36m<module>\u001b[1;34m()\u001b[0m\n\u001b[1;32m----> 1\u001b[1;33m \u001b[0mlist\u001b[0m\u001b[1;33m(\u001b[0m\u001b[0mfo\u001b[0m\u001b[1;33m[\u001b[0m\u001b[1;36m1\u001b[0m\u001b[1;33m]\u001b[0m\u001b[1;33m[\u001b[0m\u001b[1;36m1\u001b[0m\u001b[1;33m]\u001b[0m\u001b[1;33m)\u001b[0m\u001b[1;33m\u001b[0m\u001b[0m\n\u001b[0m",
      "\u001b[1;31mTypeError\u001b[0m: 'slice' object is not iterable"
     ]
    }
   ],
   "source": [
    "list(fo[1][1])"
   ]
  },
  {
   "cell_type": "code",
   "execution_count": 48,
   "metadata": {
    "collapsed": false
   },
   "outputs": [],
   "source": [
    "a=np.nan"
   ]
  },
  {
   "cell_type": "code",
   "execution_count": null,
   "metadata": {
    "collapsed": true
   },
   "outputs": [],
   "source": []
  }
 ],
 "metadata": {
  "kernelspec": {
   "display_name": "Python 3",
   "language": "python",
   "name": "python3"
  },
  "language_info": {
   "codemirror_mode": {
    "name": "ipython",
    "version": 3
   },
   "file_extension": ".py",
   "mimetype": "text/x-python",
   "name": "python",
   "nbconvert_exporter": "python",
   "pygments_lexer": "ipython3",
   "version": "3.4.3"
  }
 },
 "nbformat": 4,
 "nbformat_minor": 0
}
